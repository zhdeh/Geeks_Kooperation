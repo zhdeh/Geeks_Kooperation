{
 "cells": [
  {
   "cell_type": "markdown",
   "metadata": {},
   "source": [
    "# Herzlich willkommen in scraping Projekt\n",
    "    ich have vor,\n",
    "         Beautifulsoup , Selenium und Scrapy Bibliotheken zu benutzen."
   ]
  },
  {
   "cell_type": "markdown",
   "metadata": {},
   "source": [
    "*********************************\n",
    "erster Schrit: Importieren benötigte Bibliotheken"
   ]
  },
  {
   "cell_type": "code",
   "execution_count": 1,
   "metadata": {},
   "outputs": [],
   "source": [
    "import pandas as pd\n",
    "import json"
   ]
  },
  {
   "cell_type": "markdown",
   "metadata": {},
   "source": [
    "Pandas – Python Data Analysis Library – ist eine Bibliothek für Python. Sie erfordert NumPy und lässt sich für die Verwaltung und Analyse von Daten einsetzen\n",
    "\n",
    "JSON bietet einen einfachen Standard für die strukturierte Kodierung von Daten in Form von menschenlesbarem Text"
   ]
  },
  {
   "cell_type": "markdown",
   "metadata": {},
   "source": [
    " Die Bibliotheken wurden importiert.\n",
    "# Zeit zu mit Daten zu arbeiten"
   ]
  },
  {
   "cell_type": "code",
   "execution_count": 237,
   "metadata": {},
   "outputs": [],
   "source": []
  },
  {
   "cell_type": "markdown",
   "metadata": {},
   "source": [
    "man muss Die Execel Datei öffnen, dafür wird Funktion read_excel benutzt.\n",
    "* es wird In einer Variabele auf den Namen myExcelFrame abgespeichert."
   ]
  },
  {
   "cell_type": "code",
   "execution_count": 2,
   "metadata": {},
   "outputs": [],
   "source": [
    "myExcelFrame = pd.read_excel ('http://4it4.com/Klinikliste.xlsx' )"
   ]
  },
  {
   "cell_type": "markdown",
   "metadata": {},
   "source": [
    "wie man Columns sehen. mit Hilfe von dem Wort columns"
   ]
  },
  {
   "cell_type": "code",
   "execution_count": 3,
   "metadata": {},
   "outputs": [
    {
     "output_type": "execute_result",
     "data": {
      "text/plain": [
       "Index(['Klinikname', 'Link Google Maps', 'Link Klinikbewertungen'], dtype='object')"
      ]
     },
     "metadata": {},
     "execution_count": 3
    }
   ],
   "source": [
    "myExcelFrame.columns"
   ]
  },
  {
   "cell_type": "markdown",
   "metadata": {},
   "source": [
    "* was ich noch brauche, ist Range of meine Dataframe Index"
   ]
  },
  {
   "cell_type": "code",
   "execution_count": 4,
   "metadata": {},
   "outputs": [
    {
     "output_type": "execute_result",
     "data": {
      "text/plain": [
       "RangeIndex(start=0, stop=24, step=1)"
      ]
     },
     "metadata": {},
     "execution_count": 4
    }
   ],
   "source": [
    "myExcelFrame.index"
   ]
  },
  {
   "cell_type": "markdown",
   "metadata": {},
   "source": [
    "dürfen wir jetzt ganze Tabele sehen. das ist Quele Tabele "
   ]
  },
  {
   "cell_type": "code",
   "execution_count": 5,
   "metadata": {},
   "outputs": [
    {
     "output_type": "execute_result",
     "data": {
      "text/plain": [
       "                                  Klinikname  \\\n",
       "0                    Augenklinik Dr.Hoffmann   \n",
       "1       Krankenhaus Marienstift Braunschweig   \n",
       "2   Herzogin Elisabeth Hospital Braunschweig   \n",
       "3           Asklepios Fachklinikum Göttingen   \n",
       "4         Asklepios Fachklinikum Tiefenbrunn   \n",
       "5                  Friederikenstift Hannover   \n",
       "6                         Annastift Hannover   \n",
       "7                            Clementinenhaus   \n",
       "8                     Sophienklinik Hannover   \n",
       "9                 KRH Klinikum Großburgwedel   \n",
       "10                       KRH Klinikum Lehrte   \n",
       "11                   Krankenhaus Lindenbrunn   \n",
       "12                        Krankenhaus Hameln   \n",
       "13                     AMEOS Klinikum Alfeld   \n",
       "14                Helios Klinikum Hildesheim   \n",
       "15        AGAPLESION EV. KLINIKUM SCHAUMBURG   \n",
       "16                  Helios Klinikum Cuxhaven   \n",
       "17                OsteMed Klinik Bremervörde   \n",
       "18                     Klinik Fallingborstel   \n",
       "19                            Klinikum Emden   \n",
       "20                Krankenhaus Ludmillenstift   \n",
       "21                  Marienhospital Papenburg   \n",
       "22                Kreiskrankenhaus Osterholz   \n",
       "23                        Krankenhaus Soltau   \n",
       "\n",
       "                                     Link Google Maps  \\\n",
       "0   https://www.google.com/maps/place/Augenklinik+...   \n",
       "1   https://www.google.com/maps/place/Krankenhaus+...   \n",
       "2   https://www.google.com/maps/place/Herzogin+Eli...   \n",
       "3   https://www.google.com/maps/place/Asklepios+Fa...   \n",
       "4   https://www.google.com/maps/place/Asklepios+Fa...   \n",
       "5   https://www.google.com/maps/place/DIAKOVERE+Fr...   \n",
       "6   https://www.google.com/maps/place/DIAKOVERE+An...   \n",
       "7   https://www.google.com/maps/place/DRK-Krankenh...   \n",
       "8   https://www.google.com/maps/place/Sophienklini...   \n",
       "9   https://www.google.com/maps/place/KRH+Klinikum...   \n",
       "10  https://www.google.com/maps/place/KRH+Klinikum...   \n",
       "11  https://www.google.com/maps/place/Krankenhaus+...   \n",
       "12  https://www.google.com/maps/place/Sana+Kliniku...   \n",
       "13  https://www.google.com/maps/place/AMEOS+Klinik...   \n",
       "14  https://www.google.com/maps/place/Helios+Klini...   \n",
       "15  https://www.google.com/maps/place/AGAPLESION+E...   \n",
       "16  https://www.google.com/maps/place/HELIOS+Klini...   \n",
       "17  https://www.google.com/maps/place/OsteMed+Klin...   \n",
       "18  https://www.google.com/maps/place/Klinik+Falli...   \n",
       "19  https://www.google.com/maps/place/Klinikum+Emd...   \n",
       "20  https://www.google.com/maps/place/Krankenhaus+...   \n",
       "21  https://www.google.com/maps/place/Marienkranke...   \n",
       "22  https://www.google.com/maps/place/Kreiskranken...   \n",
       "23  ttps://www.google.com/maps/place/Heidekreis-Kl...   \n",
       "\n",
       "                               Link Klinikbewertungen  \n",
       "0   https://www.klinikbewertungen.de/klinik-forum/...  \n",
       "1   https://www.klinikbewertungen.de/klinik-forum/...  \n",
       "2   https://www.klinikbewertungen.de/klinik-forum/...  \n",
       "3   https://www.klinikbewertungen.de/klinik-forum/...  \n",
       "4   https://www.klinikbewertungen.de/klinik-forum/...  \n",
       "5   https://www.klinikbewertungen.de/klinik-forum/...  \n",
       "6   https://www.klinikbewertungen.de/klinik-forum/...  \n",
       "7   https://www.klinikbewertungen.de/klinik-forum/...  \n",
       "8   https://www.klinikbewertungen.de/klinik-forum/...  \n",
       "9   https://www.klinikbewertungen.de/klinik-forum/...  \n",
       "10  https://www.klinikbewertungen.de/klinik-forum/...  \n",
       "11  https://www.klinikbewertungen.de/klinik-forum/...  \n",
       "12  https://www.klinikbewertungen.de/klinik-forum/...  \n",
       "13  https://www.klinikbewertungen.de/klinik-forum/...  \n",
       "14  https://www.klinikbewertungen.de/klinik-forum/...  \n",
       "15  https://www.klinikbewertungen.de/klinik-forum/...  \n",
       "16  https://www.klinikbewertungen.de/klinik-forum/...  \n",
       "17  https://www.klinikbewertungen.de/klinik-forum/...  \n",
       "18  https://www.klinikbewertungen.de/klinik-forum/...  \n",
       "19  https://www.klinikbewertungen.de/klinik-forum/...  \n",
       "20  https://www.klinikbewertungen.de/klinik-forum/...  \n",
       "21  https://www.klinikbewertungen.de/klinik-forum/...  \n",
       "22  https://www.klinikbewertungen.de/klinik-forum/...  \n",
       "23  https://www.klinikbewertungen.de/klinik-forum/...  "
      ],
      "text/html": "<div>\n<style scoped>\n    .dataframe tbody tr th:only-of-type {\n        vertical-align: middle;\n    }\n\n    .dataframe tbody tr th {\n        vertical-align: top;\n    }\n\n    .dataframe thead th {\n        text-align: right;\n    }\n</style>\n<table border=\"1\" class=\"dataframe\">\n  <thead>\n    <tr style=\"text-align: right;\">\n      <th></th>\n      <th>Klinikname</th>\n      <th>Link Google Maps</th>\n      <th>Link Klinikbewertungen</th>\n    </tr>\n  </thead>\n  <tbody>\n    <tr>\n      <th>0</th>\n      <td>Augenklinik Dr.Hoffmann</td>\n      <td>https://www.google.com/maps/place/Augenklinik+...</td>\n      <td>https://www.klinikbewertungen.de/klinik-forum/...</td>\n    </tr>\n    <tr>\n      <th>1</th>\n      <td>Krankenhaus Marienstift Braunschweig</td>\n      <td>https://www.google.com/maps/place/Krankenhaus+...</td>\n      <td>https://www.klinikbewertungen.de/klinik-forum/...</td>\n    </tr>\n    <tr>\n      <th>2</th>\n      <td>Herzogin Elisabeth Hospital Braunschweig</td>\n      <td>https://www.google.com/maps/place/Herzogin+Eli...</td>\n      <td>https://www.klinikbewertungen.de/klinik-forum/...</td>\n    </tr>\n    <tr>\n      <th>3</th>\n      <td>Asklepios Fachklinikum Göttingen</td>\n      <td>https://www.google.com/maps/place/Asklepios+Fa...</td>\n      <td>https://www.klinikbewertungen.de/klinik-forum/...</td>\n    </tr>\n    <tr>\n      <th>4</th>\n      <td>Asklepios Fachklinikum Tiefenbrunn</td>\n      <td>https://www.google.com/maps/place/Asklepios+Fa...</td>\n      <td>https://www.klinikbewertungen.de/klinik-forum/...</td>\n    </tr>\n    <tr>\n      <th>5</th>\n      <td>Friederikenstift Hannover</td>\n      <td>https://www.google.com/maps/place/DIAKOVERE+Fr...</td>\n      <td>https://www.klinikbewertungen.de/klinik-forum/...</td>\n    </tr>\n    <tr>\n      <th>6</th>\n      <td>Annastift Hannover</td>\n      <td>https://www.google.com/maps/place/DIAKOVERE+An...</td>\n      <td>https://www.klinikbewertungen.de/klinik-forum/...</td>\n    </tr>\n    <tr>\n      <th>7</th>\n      <td>Clementinenhaus</td>\n      <td>https://www.google.com/maps/place/DRK-Krankenh...</td>\n      <td>https://www.klinikbewertungen.de/klinik-forum/...</td>\n    </tr>\n    <tr>\n      <th>8</th>\n      <td>Sophienklinik Hannover</td>\n      <td>https://www.google.com/maps/place/Sophienklini...</td>\n      <td>https://www.klinikbewertungen.de/klinik-forum/...</td>\n    </tr>\n    <tr>\n      <th>9</th>\n      <td>KRH Klinikum Großburgwedel</td>\n      <td>https://www.google.com/maps/place/KRH+Klinikum...</td>\n      <td>https://www.klinikbewertungen.de/klinik-forum/...</td>\n    </tr>\n    <tr>\n      <th>10</th>\n      <td>KRH Klinikum Lehrte</td>\n      <td>https://www.google.com/maps/place/KRH+Klinikum...</td>\n      <td>https://www.klinikbewertungen.de/klinik-forum/...</td>\n    </tr>\n    <tr>\n      <th>11</th>\n      <td>Krankenhaus Lindenbrunn</td>\n      <td>https://www.google.com/maps/place/Krankenhaus+...</td>\n      <td>https://www.klinikbewertungen.de/klinik-forum/...</td>\n    </tr>\n    <tr>\n      <th>12</th>\n      <td>Krankenhaus Hameln</td>\n      <td>https://www.google.com/maps/place/Sana+Kliniku...</td>\n      <td>https://www.klinikbewertungen.de/klinik-forum/...</td>\n    </tr>\n    <tr>\n      <th>13</th>\n      <td>AMEOS Klinikum Alfeld</td>\n      <td>https://www.google.com/maps/place/AMEOS+Klinik...</td>\n      <td>https://www.klinikbewertungen.de/klinik-forum/...</td>\n    </tr>\n    <tr>\n      <th>14</th>\n      <td>Helios Klinikum Hildesheim</td>\n      <td>https://www.google.com/maps/place/Helios+Klini...</td>\n      <td>https://www.klinikbewertungen.de/klinik-forum/...</td>\n    </tr>\n    <tr>\n      <th>15</th>\n      <td>AGAPLESION EV. KLINIKUM SCHAUMBURG</td>\n      <td>https://www.google.com/maps/place/AGAPLESION+E...</td>\n      <td>https://www.klinikbewertungen.de/klinik-forum/...</td>\n    </tr>\n    <tr>\n      <th>16</th>\n      <td>Helios Klinikum Cuxhaven</td>\n      <td>https://www.google.com/maps/place/HELIOS+Klini...</td>\n      <td>https://www.klinikbewertungen.de/klinik-forum/...</td>\n    </tr>\n    <tr>\n      <th>17</th>\n      <td>OsteMed Klinik Bremervörde</td>\n      <td>https://www.google.com/maps/place/OsteMed+Klin...</td>\n      <td>https://www.klinikbewertungen.de/klinik-forum/...</td>\n    </tr>\n    <tr>\n      <th>18</th>\n      <td>Klinik Fallingborstel</td>\n      <td>https://www.google.com/maps/place/Klinik+Falli...</td>\n      <td>https://www.klinikbewertungen.de/klinik-forum/...</td>\n    </tr>\n    <tr>\n      <th>19</th>\n      <td>Klinikum Emden</td>\n      <td>https://www.google.com/maps/place/Klinikum+Emd...</td>\n      <td>https://www.klinikbewertungen.de/klinik-forum/...</td>\n    </tr>\n    <tr>\n      <th>20</th>\n      <td>Krankenhaus Ludmillenstift</td>\n      <td>https://www.google.com/maps/place/Krankenhaus+...</td>\n      <td>https://www.klinikbewertungen.de/klinik-forum/...</td>\n    </tr>\n    <tr>\n      <th>21</th>\n      <td>Marienhospital Papenburg</td>\n      <td>https://www.google.com/maps/place/Marienkranke...</td>\n      <td>https://www.klinikbewertungen.de/klinik-forum/...</td>\n    </tr>\n    <tr>\n      <th>22</th>\n      <td>Kreiskrankenhaus Osterholz</td>\n      <td>https://www.google.com/maps/place/Kreiskranken...</td>\n      <td>https://www.klinikbewertungen.de/klinik-forum/...</td>\n    </tr>\n    <tr>\n      <th>23</th>\n      <td>Krankenhaus Soltau</td>\n      <td>ttps://www.google.com/maps/place/Heidekreis-Kl...</td>\n      <td>https://www.klinikbewertungen.de/klinik-forum/...</td>\n    </tr>\n  </tbody>\n</table>\n</div>"
     },
     "metadata": {},
     "execution_count": 5
    }
   ],
   "source": [
    "myExcelFrame"
   ]
  },
  {
   "cell_type": "raw",
   "metadata": {},
   "source": []
  },
  {
   "cell_type": "code",
   "execution_count": 6,
   "metadata": {},
   "outputs": [],
   "source": [
    "klinikNameList=[]\n",
    "googleUrlList=[]\n",
    "klinikUrlList=[]\n",
    "for index, row in myExcelFrame.iterrows():\n",
    "    klinikNameList.append(row['Klinikname'])\n",
    "    googleUrlList.append(row['Link Google Maps'])\n",
    "    klinikUrlList.append(row['Link Klinikbewertungen']+'/bewertungen?allbew#more')"
   ]
  },
  {
   "cell_type": "code",
   "execution_count": 7,
   "metadata": {},
   "outputs": [
    {
     "output_type": "stream",
     "name": "stdout",
     "text": [
      "Requirement already satisfied: scrapy in /Users/MAC/opt/anaconda3/lib/python3.8/site-packages (2.4.1)\n",
      "Requirement already satisfied: pyOpenSSL>=16.2.0 in /Users/MAC/opt/anaconda3/lib/python3.8/site-packages (from scrapy) (19.1.0)\n",
      "Requirement already satisfied: lxml>=3.5.0; platform_python_implementation == \"CPython\" in /Users/MAC/opt/anaconda3/lib/python3.8/site-packages (from scrapy) (4.6.1)\n",
      "Requirement already satisfied: PyDispatcher>=2.0.5 in /Users/MAC/opt/anaconda3/lib/python3.8/site-packages (from scrapy) (2.0.5)\n",
      "Requirement already satisfied: zope.interface>=4.1.3 in /Users/MAC/opt/anaconda3/lib/python3.8/site-packages (from scrapy) (5.1.2)\n",
      "Requirement already satisfied: itemloaders>=1.0.1 in /Users/MAC/opt/anaconda3/lib/python3.8/site-packages (from scrapy) (1.0.4)\n",
      "Requirement already satisfied: service-identity>=16.0.0 in /Users/MAC/opt/anaconda3/lib/python3.8/site-packages (from scrapy) (18.1.0)\n",
      "Requirement already satisfied: protego>=0.1.15 in /Users/MAC/opt/anaconda3/lib/python3.8/site-packages (from scrapy) (0.1.16)\n",
      "Requirement already satisfied: Twisted>=17.9.0 in /Users/MAC/opt/anaconda3/lib/python3.8/site-packages (from scrapy) (21.2.0)\n",
      "Requirement already satisfied: cssselect>=0.9.1 in /Users/MAC/opt/anaconda3/lib/python3.8/site-packages (from scrapy) (1.1.0)\n",
      "Requirement already satisfied: queuelib>=1.4.2 in /Users/MAC/opt/anaconda3/lib/python3.8/site-packages (from scrapy) (1.5.0)\n",
      "Requirement already satisfied: cryptography>=2.0 in /Users/MAC/opt/anaconda3/lib/python3.8/site-packages (from scrapy) (3.1.1)\n",
      "Requirement already satisfied: parsel>=1.5.0 in /Users/MAC/opt/anaconda3/lib/python3.8/site-packages (from scrapy) (1.6.0)\n",
      "Requirement already satisfied: itemadapter>=0.1.0 in /Users/MAC/opt/anaconda3/lib/python3.8/site-packages (from scrapy) (0.2.0)\n",
      "Requirement already satisfied: w3lib>=1.17.0 in /Users/MAC/opt/anaconda3/lib/python3.8/site-packages (from scrapy) (1.22.0)\n",
      "Requirement already satisfied: six>=1.5.2 in /Users/MAC/opt/anaconda3/lib/python3.8/site-packages (from pyOpenSSL>=16.2.0->scrapy) (1.15.0)\n",
      "Requirement already satisfied: setuptools in /Users/MAC/opt/anaconda3/lib/python3.8/site-packages (from zope.interface>=4.1.3->scrapy) (50.3.1.post20201107)\n",
      "Requirement already satisfied: jmespath>=0.9.5 in /Users/MAC/opt/anaconda3/lib/python3.8/site-packages (from itemloaders>=1.0.1->scrapy) (0.10.0)\n",
      "Requirement already satisfied: pyasn1 in /Users/MAC/opt/anaconda3/lib/python3.8/site-packages (from service-identity>=16.0.0->scrapy) (0.4.8)\n",
      "Requirement already satisfied: pyasn1-modules in /Users/MAC/opt/anaconda3/lib/python3.8/site-packages (from service-identity>=16.0.0->scrapy) (0.2.8)\n",
      "Requirement already satisfied: attrs>=16.0.0 in /Users/MAC/opt/anaconda3/lib/python3.8/site-packages (from service-identity>=16.0.0->scrapy) (20.3.0)\n",
      "Requirement already satisfied: incremental>=16.10.1 in /Users/MAC/opt/anaconda3/lib/python3.8/site-packages (from Twisted>=17.9.0->scrapy) (21.3.0)\n",
      "Requirement already satisfied: Automat>=0.8.0 in /Users/MAC/opt/anaconda3/lib/python3.8/site-packages (from Twisted>=17.9.0->scrapy) (20.2.0)\n",
      "Requirement already satisfied: constantly>=15.1 in /Users/MAC/opt/anaconda3/lib/python3.8/site-packages (from Twisted>=17.9.0->scrapy) (15.1.0)\n",
      "Requirement already satisfied: hyperlink>=17.1.1 in /Users/MAC/opt/anaconda3/lib/python3.8/site-packages (from Twisted>=17.9.0->scrapy) (21.0.0)\n",
      "Requirement already satisfied: cffi!=1.11.3,>=1.8 in /Users/MAC/opt/anaconda3/lib/python3.8/site-packages (from cryptography>=2.0->scrapy) (1.14.3)\n",
      "Requirement already satisfied: idna>=2.5 in /Users/MAC/opt/anaconda3/lib/python3.8/site-packages (from hyperlink>=17.1.1->Twisted>=17.9.0->scrapy) (2.10)\n",
      "Requirement already satisfied: pycparser in /Users/MAC/opt/anaconda3/lib/python3.8/site-packages (from cffi!=1.11.3,>=1.8->cryptography>=2.0->scrapy) (2.20)\n",
      "Note: you may need to restart the kernel to use updated packages.\n"
     ]
    }
   ],
   "source": [
    "pip install scrapy"
   ]
  },
  {
   "source": [
    "import scrapy\n"
   ],
   "cell_type": "code",
   "metadata": {},
   "execution_count": 8,
   "outputs": []
  },
  {
   "cell_type": "code",
   "execution_count": 9,
   "metadata": {},
   "outputs": [],
   "source": [
    "class EagleSpider(scrapy.Spider):\n",
    "    name='eagle'\n",
    "    start_urls=myExcelFrame['Link Google Maps']\n",
    "\n",
    "    def parse(self, response):\n",
    "        print('#'*100)\n",
    "        print(response.xpath('//h1/text()').get())\n"
   ]
  },
  {
   "cell_type": "code",
   "execution_count": 10,
   "metadata": {},
   "outputs": [],
   "source": [
    "p = EagleSpider()\n"
   ]
  },
  {
   "cell_type": "code",
   "execution_count": 13,
   "metadata": {},
   "outputs": [
    {
     "output_type": "execute_result",
     "data": {
      "text/plain": [
       "<EagleSpider 'eagle' at 0x7f8c7953ccd0>"
      ]
     },
     "metadata": {},
     "execution_count": 13
    }
   ],
   "source": [
    "p"
   ]
  },
  {
   "cell_type": "code",
   "execution_count": null,
   "metadata": {},
   "outputs": [],
   "source": []
  }
 ],
 "metadata": {
  "kernelspec": {
   "display_name": "Python 3",
   "language": "python",
   "name": "python3"
  },
  "language_info": {
   "codemirror_mode": {
    "name": "ipython",
    "version": 3
   },
   "file_extension": ".py",
   "mimetype": "text/x-python",
   "name": "python",
   "nbconvert_exporter": "python",
   "pygments_lexer": "ipython3",
   "version": "3.8.5"
  }
 },
 "nbformat": 4,
 "nbformat_minor": 4
}