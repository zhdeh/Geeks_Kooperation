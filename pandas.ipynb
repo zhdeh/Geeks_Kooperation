{
 "cells": [
  {
   "cell_type": "code",
   "execution_count": 40,
   "metadata": {},
   "outputs": [],
   "source": [
    "import pandas as pd"
   ]
  },
  {
   "cell_type": "code",
   "execution_count": null,
   "metadata": {},
   "outputs": [],
   "source": []
  },
  {
   "cell_type": "code",
   "execution_count": 41,
   "metadata": {},
   "outputs": [],
   "source": [
    "from selenium import webdriver \n",
    "from selenium.webdriver.chrome.options import Options\n",
    "from selenium.webdriver import Chrome\n",
    "import pandas as pd\n",
    "import time"
   ]
  },
  {
   "cell_type": "code",
   "execution_count": 5,
   "metadata": {},
   "outputs": [],
   "source": [
    " path={'chromedriver'}\n"
   ]
  },
  {
   "cell_type": "code",
   "execution_count": 6,
   "metadata": {},
   "outputs": [],
   "source": [
    "chrome_options = Options()"
   ]
  },
  {
   "cell_type": "code",
   "execution_count": null,
   "metadata": {},
   "outputs": [],
   "source": []
  },
  {
   "cell_type": "code",
   "execution_count": 11,
   "metadata": {},
   "outputs": [],
   "source": [
    "myExcelFrame = pd.read_excel ('/Users/MAC/Desktop/git4geeks/4geekRep/Klinikliste.xlsx' )\n"
   ]
  },
  {
   "cell_type": "code",
   "execution_count": 14,
   "metadata": {},
   "outputs": [
    {
     "data": {
      "text/plain": [
       "Index(['Klinikname', 'Link Google Maps', 'Link Klinikbewertungen'], dtype='object')"
      ]
     },
     "execution_count": 14,
     "metadata": {},
     "output_type": "execute_result"
    }
   ],
   "source": [
    "myExcelFrame.columns"
   ]
  },
  {
   "cell_type": "code",
   "execution_count": 12,
   "metadata": {},
   "outputs": [
    {
     "data": {
      "text/plain": [
       "RangeIndex(start=0, stop=24, step=1)"
      ]
     },
     "execution_count": 12,
     "metadata": {},
     "output_type": "execute_result"
    }
   ],
   "source": [
    "myExcelFrame.index"
   ]
  },
  {
   "cell_type": "code",
   "execution_count": 53,
   "metadata": {},
   "outputs": [
    {
     "data": {
      "text/html": [
       "<div>\n",
       "<style scoped>\n",
       "    .dataframe tbody tr th:only-of-type {\n",
       "        vertical-align: middle;\n",
       "    }\n",
       "\n",
       "    .dataframe tbody tr th {\n",
       "        vertical-align: top;\n",
       "    }\n",
       "\n",
       "    .dataframe thead th {\n",
       "        text-align: right;\n",
       "    }\n",
       "</style>\n",
       "<table border=\"1\" class=\"dataframe\">\n",
       "  <thead>\n",
       "    <tr style=\"text-align: right;\">\n",
       "      <th></th>\n",
       "      <th>Klinikname</th>\n",
       "      <th>Link Google Maps</th>\n",
       "      <th>Link Klinikbewertungen</th>\n",
       "    </tr>\n",
       "  </thead>\n",
       "  <tbody>\n",
       "    <tr>\n",
       "      <th>0</th>\n",
       "      <td>Augenklinik Dr.Hoffmann</td>\n",
       "      <td>https://www.google.com/maps/place/Augenklinik+...</td>\n",
       "      <td>https://www.klinikbewertungen.de/klinik-forum/...</td>\n",
       "    </tr>\n",
       "    <tr>\n",
       "      <th>1</th>\n",
       "      <td>Krankenhaus Marienstift Braunschweig</td>\n",
       "      <td>https://www.google.com/maps/place/Krankenhaus+...</td>\n",
       "      <td>https://www.klinikbewertungen.de/klinik-forum/...</td>\n",
       "    </tr>\n",
       "    <tr>\n",
       "      <th>2</th>\n",
       "      <td>Herzogin Elisabeth Hospital Braunschweig</td>\n",
       "      <td>https://www.google.com/maps/place/Herzogin+Eli...</td>\n",
       "      <td>https://www.klinikbewertungen.de/klinik-forum/...</td>\n",
       "    </tr>\n",
       "    <tr>\n",
       "      <th>3</th>\n",
       "      <td>Asklepios Fachklinikum Göttingen</td>\n",
       "      <td>https://www.google.com/maps/place/Asklepios+Fa...</td>\n",
       "      <td>https://www.klinikbewertungen.de/klinik-forum/...</td>\n",
       "    </tr>\n",
       "    <tr>\n",
       "      <th>4</th>\n",
       "      <td>Asklepios Fachklinikum Tiefenbrunn</td>\n",
       "      <td>https://www.google.com/maps/place/Asklepios+Fa...</td>\n",
       "      <td>https://www.klinikbewertungen.de/klinik-forum/...</td>\n",
       "    </tr>\n",
       "    <tr>\n",
       "      <th>5</th>\n",
       "      <td>Friederikenstift Hannover</td>\n",
       "      <td>https://www.google.com/maps/place/DIAKOVERE+Fr...</td>\n",
       "      <td>https://www.klinikbewertungen.de/klinik-forum/...</td>\n",
       "    </tr>\n",
       "    <tr>\n",
       "      <th>6</th>\n",
       "      <td>Annastift Hannover</td>\n",
       "      <td>https://www.google.com/maps/place/DIAKOVERE+An...</td>\n",
       "      <td>https://www.klinikbewertungen.de/klinik-forum/...</td>\n",
       "    </tr>\n",
       "    <tr>\n",
       "      <th>7</th>\n",
       "      <td>Clementinenhaus</td>\n",
       "      <td>https://www.google.com/maps/place/DRK-Krankenh...</td>\n",
       "      <td>https://www.klinikbewertungen.de/klinik-forum/...</td>\n",
       "    </tr>\n",
       "    <tr>\n",
       "      <th>8</th>\n",
       "      <td>Sophienklinik Hannover</td>\n",
       "      <td>https://www.google.com/maps/place/Sophienklini...</td>\n",
       "      <td>https://www.klinikbewertungen.de/klinik-forum/...</td>\n",
       "    </tr>\n",
       "    <tr>\n",
       "      <th>9</th>\n",
       "      <td>KRH Klinikum Großburgwedel</td>\n",
       "      <td>https://www.google.com/maps/place/KRH+Klinikum...</td>\n",
       "      <td>https://www.klinikbewertungen.de/klinik-forum/...</td>\n",
       "    </tr>\n",
       "    <tr>\n",
       "      <th>10</th>\n",
       "      <td>KRH Klinikum Lehrte</td>\n",
       "      <td>https://www.google.com/maps/place/KRH+Klinikum...</td>\n",
       "      <td>https://www.klinikbewertungen.de/klinik-forum/...</td>\n",
       "    </tr>\n",
       "    <tr>\n",
       "      <th>11</th>\n",
       "      <td>Krankenhaus Lindenbrunn</td>\n",
       "      <td>https://www.google.com/maps/place/Krankenhaus+...</td>\n",
       "      <td>https://www.klinikbewertungen.de/klinik-forum/...</td>\n",
       "    </tr>\n",
       "    <tr>\n",
       "      <th>12</th>\n",
       "      <td>Krankenhaus Hameln</td>\n",
       "      <td>https://www.google.com/maps/place/Sana+Kliniku...</td>\n",
       "      <td>https://www.klinikbewertungen.de/klinik-forum/...</td>\n",
       "    </tr>\n",
       "    <tr>\n",
       "      <th>13</th>\n",
       "      <td>AMEOS Klinikum Alfeld</td>\n",
       "      <td>https://www.google.com/maps/place/AMEOS+Klinik...</td>\n",
       "      <td>https://www.klinikbewertungen.de/klinik-forum/...</td>\n",
       "    </tr>\n",
       "    <tr>\n",
       "      <th>14</th>\n",
       "      <td>Helios Klinikum Hildesheim</td>\n",
       "      <td>https://www.google.com/maps/place/Helios+Klini...</td>\n",
       "      <td>https://www.klinikbewertungen.de/klinik-forum/...</td>\n",
       "    </tr>\n",
       "    <tr>\n",
       "      <th>15</th>\n",
       "      <td>AGAPLESION EV. KLINIKUM SCHAUMBURG</td>\n",
       "      <td>https://www.google.com/maps/place/AGAPLESION+E...</td>\n",
       "      <td>https://www.klinikbewertungen.de/klinik-forum/...</td>\n",
       "    </tr>\n",
       "    <tr>\n",
       "      <th>16</th>\n",
       "      <td>Helios Klinikum Cuxhaven</td>\n",
       "      <td>https://www.google.com/maps/place/HELIOS+Klini...</td>\n",
       "      <td>https://www.klinikbewertungen.de/klinik-forum/...</td>\n",
       "    </tr>\n",
       "    <tr>\n",
       "      <th>17</th>\n",
       "      <td>OsteMed Klinik Bremervörde</td>\n",
       "      <td>https://www.google.com/maps/place/OsteMed+Klin...</td>\n",
       "      <td>https://www.klinikbewertungen.de/klinik-forum/...</td>\n",
       "    </tr>\n",
       "    <tr>\n",
       "      <th>18</th>\n",
       "      <td>Klinik Fallingborstel</td>\n",
       "      <td>https://www.google.com/maps/place/Klinik+Falli...</td>\n",
       "      <td>https://www.klinikbewertungen.de/klinik-forum/...</td>\n",
       "    </tr>\n",
       "    <tr>\n",
       "      <th>19</th>\n",
       "      <td>Klinikum Emden</td>\n",
       "      <td>https://www.google.com/maps/place/Klinikum+Emd...</td>\n",
       "      <td>https://www.klinikbewertungen.de/klinik-forum/...</td>\n",
       "    </tr>\n",
       "    <tr>\n",
       "      <th>20</th>\n",
       "      <td>Krankenhaus Ludmillenstift</td>\n",
       "      <td>https://www.google.com/maps/place/Krankenhaus+...</td>\n",
       "      <td>https://www.klinikbewertungen.de/klinik-forum/...</td>\n",
       "    </tr>\n",
       "    <tr>\n",
       "      <th>21</th>\n",
       "      <td>Marienhospital Papenburg</td>\n",
       "      <td>https://www.google.com/maps/place/Marienkranke...</td>\n",
       "      <td>https://www.klinikbewertungen.de/klinik-forum/...</td>\n",
       "    </tr>\n",
       "    <tr>\n",
       "      <th>22</th>\n",
       "      <td>Kreiskrankenhaus Osterholz</td>\n",
       "      <td>https://www.google.com/maps/place/Kreiskranken...</td>\n",
       "      <td>https://www.klinikbewertungen.de/klinik-forum/...</td>\n",
       "    </tr>\n",
       "    <tr>\n",
       "      <th>23</th>\n",
       "      <td>Krankenhaus Soltau</td>\n",
       "      <td>ttps://www.google.com/maps/place/Heidekreis-Kl...</td>\n",
       "      <td>https://www.klinikbewertungen.de/klinik-forum/...</td>\n",
       "    </tr>\n",
       "  </tbody>\n",
       "</table>\n",
       "</div>"
      ],
      "text/plain": [
       "                                  Klinikname  \\\n",
       "0                    Augenklinik Dr.Hoffmann   \n",
       "1       Krankenhaus Marienstift Braunschweig   \n",
       "2   Herzogin Elisabeth Hospital Braunschweig   \n",
       "3           Asklepios Fachklinikum Göttingen   \n",
       "4         Asklepios Fachklinikum Tiefenbrunn   \n",
       "5                  Friederikenstift Hannover   \n",
       "6                         Annastift Hannover   \n",
       "7                            Clementinenhaus   \n",
       "8                     Sophienklinik Hannover   \n",
       "9                 KRH Klinikum Großburgwedel   \n",
       "10                       KRH Klinikum Lehrte   \n",
       "11                   Krankenhaus Lindenbrunn   \n",
       "12                        Krankenhaus Hameln   \n",
       "13                     AMEOS Klinikum Alfeld   \n",
       "14                Helios Klinikum Hildesheim   \n",
       "15        AGAPLESION EV. KLINIKUM SCHAUMBURG   \n",
       "16                  Helios Klinikum Cuxhaven   \n",
       "17                OsteMed Klinik Bremervörde   \n",
       "18                     Klinik Fallingborstel   \n",
       "19                            Klinikum Emden   \n",
       "20                Krankenhaus Ludmillenstift   \n",
       "21                  Marienhospital Papenburg   \n",
       "22                Kreiskrankenhaus Osterholz   \n",
       "23                        Krankenhaus Soltau   \n",
       "\n",
       "                                     Link Google Maps  \\\n",
       "0   https://www.google.com/maps/place/Augenklinik+...   \n",
       "1   https://www.google.com/maps/place/Krankenhaus+...   \n",
       "2   https://www.google.com/maps/place/Herzogin+Eli...   \n",
       "3   https://www.google.com/maps/place/Asklepios+Fa...   \n",
       "4   https://www.google.com/maps/place/Asklepios+Fa...   \n",
       "5   https://www.google.com/maps/place/DIAKOVERE+Fr...   \n",
       "6   https://www.google.com/maps/place/DIAKOVERE+An...   \n",
       "7   https://www.google.com/maps/place/DRK-Krankenh...   \n",
       "8   https://www.google.com/maps/place/Sophienklini...   \n",
       "9   https://www.google.com/maps/place/KRH+Klinikum...   \n",
       "10  https://www.google.com/maps/place/KRH+Klinikum...   \n",
       "11  https://www.google.com/maps/place/Krankenhaus+...   \n",
       "12  https://www.google.com/maps/place/Sana+Kliniku...   \n",
       "13  https://www.google.com/maps/place/AMEOS+Klinik...   \n",
       "14  https://www.google.com/maps/place/Helios+Klini...   \n",
       "15  https://www.google.com/maps/place/AGAPLESION+E...   \n",
       "16  https://www.google.com/maps/place/HELIOS+Klini...   \n",
       "17  https://www.google.com/maps/place/OsteMed+Klin...   \n",
       "18  https://www.google.com/maps/place/Klinik+Falli...   \n",
       "19  https://www.google.com/maps/place/Klinikum+Emd...   \n",
       "20  https://www.google.com/maps/place/Krankenhaus+...   \n",
       "21  https://www.google.com/maps/place/Marienkranke...   \n",
       "22  https://www.google.com/maps/place/Kreiskranken...   \n",
       "23  ttps://www.google.com/maps/place/Heidekreis-Kl...   \n",
       "\n",
       "                               Link Klinikbewertungen  \n",
       "0   https://www.klinikbewertungen.de/klinik-forum/...  \n",
       "1   https://www.klinikbewertungen.de/klinik-forum/...  \n",
       "2   https://www.klinikbewertungen.de/klinik-forum/...  \n",
       "3   https://www.klinikbewertungen.de/klinik-forum/...  \n",
       "4   https://www.klinikbewertungen.de/klinik-forum/...  \n",
       "5   https://www.klinikbewertungen.de/klinik-forum/...  \n",
       "6   https://www.klinikbewertungen.de/klinik-forum/...  \n",
       "7   https://www.klinikbewertungen.de/klinik-forum/...  \n",
       "8   https://www.klinikbewertungen.de/klinik-forum/...  \n",
       "9   https://www.klinikbewertungen.de/klinik-forum/...  \n",
       "10  https://www.klinikbewertungen.de/klinik-forum/...  \n",
       "11  https://www.klinikbewertungen.de/klinik-forum/...  \n",
       "12  https://www.klinikbewertungen.de/klinik-forum/...  \n",
       "13  https://www.klinikbewertungen.de/klinik-forum/...  \n",
       "14  https://www.klinikbewertungen.de/klinik-forum/...  \n",
       "15  https://www.klinikbewertungen.de/klinik-forum/...  \n",
       "16  https://www.klinikbewertungen.de/klinik-forum/...  \n",
       "17  https://www.klinikbewertungen.de/klinik-forum/...  \n",
       "18  https://www.klinikbewertungen.de/klinik-forum/...  \n",
       "19  https://www.klinikbewertungen.de/klinik-forum/...  \n",
       "20  https://www.klinikbewertungen.de/klinik-forum/...  \n",
       "21  https://www.klinikbewertungen.de/klinik-forum/...  \n",
       "22  https://www.klinikbewertungen.de/klinik-forum/...  \n",
       "23  https://www.klinikbewertungen.de/klinik-forum/...  "
      ]
     },
     "execution_count": 53,
     "metadata": {},
     "output_type": "execute_result"
    }
   ],
   "source": [
    "myExcelFrame"
   ]
  },
  {
   "cell_type": "code",
   "execution_count": 42,
   "metadata": {},
   "outputs": [
    {
     "data": {
      "text/plain": [
       "0                      Augenklinik Dr.Hoffmann\n",
       "1         Krankenhaus Marienstift Braunschweig\n",
       "2     Herzogin Elisabeth Hospital Braunschweig\n",
       "3             Asklepios Fachklinikum Göttingen\n",
       "4           Asklepios Fachklinikum Tiefenbrunn\n",
       "5                    Friederikenstift Hannover\n",
       "6                           Annastift Hannover\n",
       "7                              Clementinenhaus\n",
       "8                       Sophienklinik Hannover\n",
       "9                   KRH Klinikum Großburgwedel\n",
       "10                         KRH Klinikum Lehrte\n",
       "11                     Krankenhaus Lindenbrunn\n",
       "12                          Krankenhaus Hameln\n",
       "13                       AMEOS Klinikum Alfeld\n",
       "14                  Helios Klinikum Hildesheim\n",
       "15          AGAPLESION EV. KLINIKUM SCHAUMBURG\n",
       "16                    Helios Klinikum Cuxhaven\n",
       "17                  OsteMed Klinik Bremervörde\n",
       "18                       Klinik Fallingborstel\n",
       "19                              Klinikum Emden\n",
       "20                  Krankenhaus Ludmillenstift\n",
       "21                    Marienhospital Papenburg\n",
       "22                  Kreiskrankenhaus Osterholz\n",
       "23                          Krankenhaus Soltau\n",
       "Name: Klinikname, dtype: object"
      ]
     },
     "execution_count": 42,
     "metadata": {},
     "output_type": "execute_result"
    }
   ],
   "source": [
    "myExcelFrame['Klinikname']"
   ]
  },
  {
   "cell_type": "code",
   "execution_count": 43,
   "metadata": {},
   "outputs": [
    {
     "data": {
      "text/plain": [
       "'Augenklinik Dr.Hoffmann'"
      ]
     },
     "execution_count": 43,
     "metadata": {},
     "output_type": "execute_result"
    }
   ],
   "source": [
    "myExcelFrame['Klinikname'][0]"
   ]
  },
  {
   "cell_type": "code",
   "execution_count": 44,
   "metadata": {},
   "outputs": [
    {
     "data": {
      "text/plain": [
       "'https://www.google.com/maps/place/Augenklinik+Dr.+Hoffmann/@52.2555789,10.5275976,15z/data=!4m2!3m1!1s0x0:0xe66ee9e189648187?sa=X&ved=2ahUKEwiUrOzD5_DuAhVLDOwKHUVOACkQ_BIwDHoECBgQBQ'"
      ]
     },
     "execution_count": 44,
     "metadata": {},
     "output_type": "execute_result"
    }
   ],
   "source": [
    "myExcelFrame['Link Google Maps'][0]"
   ]
  },
  {
   "cell_type": "code",
   "execution_count": 45,
   "metadata": {},
   "outputs": [
    {
     "data": {
      "text/plain": [
       "'https://www.klinikbewertungen.de/klinik-forum/erfahrung-mit-augenklinik-dr-hoffmann-braunschweig'"
      ]
     },
     "execution_count": 45,
     "metadata": {},
     "output_type": "execute_result"
    }
   ],
   "source": [
    "myExcelFrame['Link Klinikbewertungen'][0]"
   ]
  },
  {
   "cell_type": "code",
   "execution_count": 46,
   "metadata": {},
   "outputs": [],
   "source": [
    "#Now Can We Use requests"
   ]
  },
  {
   "cell_type": "code",
   "execution_count": null,
   "metadata": {},
   "outputs": [],
   "source": [
    "#Sample Code to Use Request and BeautifulSoup"
   ]
  },
  {
   "cell_type": "code",
   "execution_count": 58,
   "metadata": {},
   "outputs": [],
   "source": [
    "from bs4 import BeautifulSoup\n",
    "import requests\n"
   ]
  },
  {
   "cell_type": "code",
   "execution_count": 59,
   "metadata": {},
   "outputs": [],
   "source": [
    "link0 = myExcelFrame['Link Klinikbewertungen'][0]"
   ]
  },
  {
   "cell_type": "code",
   "execution_count": 60,
   "metadata": {},
   "outputs": [
    {
     "data": {
      "text/plain": [
       "'https://www.klinikbewertungen.de/klinik-forum/erfahrung-mit-augenklinik-dr-hoffmann-braunschweig'"
      ]
     },
     "execution_count": 60,
     "metadata": {},
     "output_type": "execute_result"
    }
   ],
   "source": [
    "link0"
   ]
  },
  {
   "cell_type": "code",
   "execution_count": 61,
   "metadata": {},
   "outputs": [],
   "source": [
    "page = requests.get(link0)"
   ]
  },
  {
   "cell_type": "code",
   "execution_count": 57,
   "metadata": {},
   "outputs": [
    {
     "name": "stdout",
     "output_type": "stream",
     "text": [
      "Object `#Important <Response [200]> is Ok.` not found\n"
     ]
    }
   ],
   "source": [
    "page #Important <Response [200]> is Ok."
   ]
  },
  {
   "cell_type": "code",
   "execution_count": 62,
   "metadata": {},
   "outputs": [],
   "source": [
    "#Now Use BeautifulSoup\n",
    "soup = BeautifulSoup(page.content, 'html.parser')"
   ]
  },
  {
   "cell_type": "code",
   "execution_count": 63,
   "metadata": {},
   "outputs": [],
   "source": [
    "#Get Title From Web Scraping\n",
    "title = soup.find(itemprop=\"name\")"
   ]
  },
  {
   "cell_type": "code",
   "execution_count": 64,
   "metadata": {},
   "outputs": [
    {
     "name": "stdout",
     "output_type": "stream",
     "text": [
      "<h1 itemprop=\"name\" style=\"display:inline-block\">Augenklinik - Dr. Hoffmann</h1>\n"
     ]
    }
   ],
   "source": [
    "print(title)\n"
   ]
  },
  {
   "cell_type": "code",
   "execution_count": 65,
   "metadata": {},
   "outputs": [
    {
     "data": {
      "text/plain": [
       "'Augenklinik - Dr. Hoffmann'"
      ]
     },
     "execution_count": 65,
     "metadata": {},
     "output_type": "execute_result"
    }
   ],
   "source": [
    "title.text"
   ]
  },
  {
   "cell_type": "code",
   "execution_count": 66,
   "metadata": {},
   "outputs": [
    {
     "data": {
      "text/plain": [
       "'Augenklinik - Dr. Hoffmann'"
      ]
     },
     "execution_count": 66,
     "metadata": {},
     "output_type": "execute_result"
    }
   ],
   "source": [
    "title.text"
   ]
  },
  {
   "cell_type": "code",
   "execution_count": 67,
   "metadata": {},
   "outputs": [],
   "source": [
    "#Now Time to Use 'For' Loops\n",
    "#All we have to do. That is, we extract all the information with the help of a 'For' loop"
   ]
  },
  {
   "cell_type": "code",
   "execution_count": 68,
   "metadata": {},
   "outputs": [
    {
     "data": {
      "text/plain": [
       "pandas.core.series.Series"
      ]
     },
     "execution_count": 68,
     "metadata": {},
     "output_type": "execute_result"
    }
   ],
   "source": [
    "type(myExcelFrame['Klinikname'])"
   ]
  },
  {
   "cell_type": "code",
   "execution_count": 69,
   "metadata": {},
   "outputs": [],
   "source": [
    "klinikNameList=[]\n",
    "googleUrlList=[]\n",
    "klinikUrlList=[]\n",
    "for index, row in myExcelFrame.iterrows():\n",
    "    klinikNameList.append(row['Klinikname'])\n",
    "    googleUrlList.append(row['Link Google Maps'])\n",
    "    klinikUrlList.append(row['Link Klinikbewertungen'])\n"
   ]
  },
  {
   "cell_type": "raw",
   "metadata": {},
   "source": [
    "print('test for check Github')\n",
    "Print('Please Merge my Request')"
   ]
  },
  {
   "cell_type": "code",
   "execution_count": null,
   "metadata": {},
   "outputs": [],
   "source": []
  }
 ],
 "metadata": {
  "kernelspec": {
   "display_name": "Python 3",
   "language": "python",
   "name": "python3"
  },
  "language_info": {
   "codemirror_mode": {
    "name": "ipython",
    "version": 3
   },
   "file_extension": ".py",
   "mimetype": "text/x-python",
   "name": "python",
   "nbconvert_exporter": "python",
   "pygments_lexer": "ipython3",
   "version": "3.8.5"
  }
 },
 "nbformat": 4,
 "nbformat_minor": 4
}
