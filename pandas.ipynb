{
 "cells": [
  {
   "cell_type": "markdown",
   "metadata": {},
   "source": [
    "# Herzlich willkommen in scraping Projekt\n",
    "    ich have vor,\n",
    "         Beautifulsoup , Selenium und Scrapy Bibliotheken zu benutzen."
   ]
  },
  {
   "cell_type": "markdown",
   "metadata": {},
   "source": [
    "*********************************\n",
    "erster Schrit: Importieren benötigte Bibliotheken"
   ]
  },
  {
   "cell_type": "code",
   "execution_count": 7,
   "metadata": {},
   "outputs": [],
   "source": [
    "import pandas as pd\n",
    "import json"
   ]
  },
  {
   "cell_type": "markdown",
   "metadata": {},
   "source": [
    "Pandas – Python Data Analysis Library – ist eine Bibliothek für Python. Sie erfordert NumPy und lässt sich für die Verwaltung und Analyse von Daten einsetzen\n",
    "\n",
    "JSON bietet einen einfachen Standard für die strukturierte Kodierung von Daten in Form von menschenlesbarem Text"
   ]
  },
  {
   "cell_type": "markdown",
   "metadata": {},
   "source": [
    "# Nun: Selenium"
   ]
  },
  {
   "cell_type": "markdown",
   "metadata": {},
   "source": [
    "Selenium ist ein Framework für automatisierte Softwaretests von Webanwendungen"
   ]
  },
  {
   "cell_type": "code",
   "execution_count": 8,
   "metadata": {},
   "outputs": [],
   "source": [
    "from selenium import webdriver \n",
    "from selenium.webdriver.chrome.options import Options\n",
    "from selenium.webdriver import Chrome\n",
    "import time"
   ]
  },
  {
   "cell_type": "markdown",
   "metadata": {},
   "source": [
    "um Selenium zu benutzen, wurde BrowserDriver wie 'chromedriver' benötigt."
   ]
  },
  {
   "cell_type": "markdown",
   "metadata": {},
   "source": [
    "Man muss chromeDriver herunterladen. über internetseite \n",
    " besuche bitte die WebSite: https://chromedriver.chromium.org/downloads"
   ]
  },
  {
   "cell_type": "markdown",
   "metadata": {},
   "source": [
    "herausfinden, google chrome version besuchr bitte \n",
    "Mach mal Kopie den Link um Dein google chrome version zu sehen \n",
    "    denchrome://settings/help"
   ]
  },
  {
   "cell_type": "markdown",
   "metadata": {},
   "source": [
    "--------"
   ]
  },
  {
   "cell_type": "markdown",
   "metadata": {},
   "source": [
    "in Path schreibt man die Adresse von schon heruntergeladete Driver-Datei"
   ]
  },
  {
   "cell_type": "code",
   "execution_count": 9,
   "metadata": {},
   "outputs": [],
   "source": [
    " path={'chromedriver'}\n",
    "chrome_options = Options()"
   ]
  },
  {
   "cell_type": "markdown",
   "metadata": {},
   "source": [
    " Die Bibliotheken wurden importiert.\n",
    "# Zeit zu mit Daten zu arbeiten"
   ]
  },
  {
   "cell_type": "code",
   "execution_count": 237,
   "metadata": {},
   "outputs": [],
   "source": []
  },
  {
   "cell_type": "markdown",
   "metadata": {},
   "source": [
    "man muss Die Execel Datei öffnen, dafür wird Funktion read_excel benutzt.\n",
    "* es wird In einer Variabele auf den Namen myExcelFrame abgespeichert."
   ]
  },
  {
   "cell_type": "code",
   "execution_count": 10,
   "metadata": {},
   "outputs": [],
   "source": [
    "myExcelFrame = pd.read_excel ('http://4it4.com/Klinikliste.xlsx' )"
   ]
  },
  {
   "cell_type": "markdown",
   "metadata": {},
   "source": [
    "wie man Columns sehen. mit Hilfe von dem Wort columns"
   ]
  },
  {
   "cell_type": "code",
   "execution_count": 239,
   "metadata": {},
   "outputs": [
    {
     "data": {
      "text/plain": [
       "Index(['Klinikname', 'Link Google Maps', 'Link Klinikbewertungen'], dtype='object')"
      ]
     },
     "execution_count": 239,
     "metadata": {},
     "output_type": "execute_result"
    }
   ],
   "source": [
    "myExcelFrame.columns"
   ]
  },
  {
   "cell_type": "markdown",
   "metadata": {},
   "source": [
    "* was ich noch brauche, ist Range of meine Dataframe Index"
   ]
  },
  {
   "cell_type": "code",
   "execution_count": 240,
   "metadata": {},
   "outputs": [
    {
     "data": {
      "text/plain": [
       "RangeIndex(start=0, stop=24, step=1)"
      ]
     },
     "execution_count": 240,
     "metadata": {},
     "output_type": "execute_result"
    }
   ],
   "source": [
    "myExcelFrame.index"
   ]
  },
  {
   "cell_type": "markdown",
   "metadata": {},
   "source": [
    "dürfen wir jetzt ganze Tabele sehen. das ist Quele Tabele "
   ]
  },
  {
   "cell_type": "code",
   "execution_count": 241,
   "metadata": {},
   "outputs": [
    {
     "data": {
      "text/html": [
       "<div>\n",
       "<style scoped>\n",
       "    .dataframe tbody tr th:only-of-type {\n",
       "        vertical-align: middle;\n",
       "    }\n",
       "\n",
       "    .dataframe tbody tr th {\n",
       "        vertical-align: top;\n",
       "    }\n",
       "\n",
       "    .dataframe thead th {\n",
       "        text-align: right;\n",
       "    }\n",
       "</style>\n",
       "<table border=\"1\" class=\"dataframe\">\n",
       "  <thead>\n",
       "    <tr style=\"text-align: right;\">\n",
       "      <th></th>\n",
       "      <th>Klinikname</th>\n",
       "      <th>Link Google Maps</th>\n",
       "      <th>Link Klinikbewertungen</th>\n",
       "    </tr>\n",
       "  </thead>\n",
       "  <tbody>\n",
       "    <tr>\n",
       "      <th>0</th>\n",
       "      <td>Augenklinik Dr.Hoffmann</td>\n",
       "      <td>https://www.google.com/maps/place/Augenklinik+...</td>\n",
       "      <td>https://www.klinikbewertungen.de/klinik-forum/...</td>\n",
       "    </tr>\n",
       "    <tr>\n",
       "      <th>1</th>\n",
       "      <td>Krankenhaus Marienstift Braunschweig</td>\n",
       "      <td>https://www.google.com/maps/place/Krankenhaus+...</td>\n",
       "      <td>https://www.klinikbewertungen.de/klinik-forum/...</td>\n",
       "    </tr>\n",
       "    <tr>\n",
       "      <th>2</th>\n",
       "      <td>Herzogin Elisabeth Hospital Braunschweig</td>\n",
       "      <td>https://www.google.com/maps/place/Herzogin+Eli...</td>\n",
       "      <td>https://www.klinikbewertungen.de/klinik-forum/...</td>\n",
       "    </tr>\n",
       "    <tr>\n",
       "      <th>3</th>\n",
       "      <td>Asklepios Fachklinikum Göttingen</td>\n",
       "      <td>https://www.google.com/maps/place/Asklepios+Fa...</td>\n",
       "      <td>https://www.klinikbewertungen.de/klinik-forum/...</td>\n",
       "    </tr>\n",
       "    <tr>\n",
       "      <th>4</th>\n",
       "      <td>Asklepios Fachklinikum Tiefenbrunn</td>\n",
       "      <td>https://www.google.com/maps/place/Asklepios+Fa...</td>\n",
       "      <td>https://www.klinikbewertungen.de/klinik-forum/...</td>\n",
       "    </tr>\n",
       "    <tr>\n",
       "      <th>5</th>\n",
       "      <td>Friederikenstift Hannover</td>\n",
       "      <td>https://www.google.com/maps/place/DIAKOVERE+Fr...</td>\n",
       "      <td>https://www.klinikbewertungen.de/klinik-forum/...</td>\n",
       "    </tr>\n",
       "    <tr>\n",
       "      <th>6</th>\n",
       "      <td>Annastift Hannover</td>\n",
       "      <td>https://www.google.com/maps/place/DIAKOVERE+An...</td>\n",
       "      <td>https://www.klinikbewertungen.de/klinik-forum/...</td>\n",
       "    </tr>\n",
       "    <tr>\n",
       "      <th>7</th>\n",
       "      <td>Clementinenhaus</td>\n",
       "      <td>https://www.google.com/maps/place/DRK-Krankenh...</td>\n",
       "      <td>https://www.klinikbewertungen.de/klinik-forum/...</td>\n",
       "    </tr>\n",
       "    <tr>\n",
       "      <th>8</th>\n",
       "      <td>Sophienklinik Hannover</td>\n",
       "      <td>https://www.google.com/maps/place/Sophienklini...</td>\n",
       "      <td>https://www.klinikbewertungen.de/klinik-forum/...</td>\n",
       "    </tr>\n",
       "    <tr>\n",
       "      <th>9</th>\n",
       "      <td>KRH Klinikum Großburgwedel</td>\n",
       "      <td>https://www.google.com/maps/place/KRH+Klinikum...</td>\n",
       "      <td>https://www.klinikbewertungen.de/klinik-forum/...</td>\n",
       "    </tr>\n",
       "    <tr>\n",
       "      <th>10</th>\n",
       "      <td>KRH Klinikum Lehrte</td>\n",
       "      <td>https://www.google.com/maps/place/KRH+Klinikum...</td>\n",
       "      <td>https://www.klinikbewertungen.de/klinik-forum/...</td>\n",
       "    </tr>\n",
       "    <tr>\n",
       "      <th>11</th>\n",
       "      <td>Krankenhaus Lindenbrunn</td>\n",
       "      <td>https://www.google.com/maps/place/Krankenhaus+...</td>\n",
       "      <td>https://www.klinikbewertungen.de/klinik-forum/...</td>\n",
       "    </tr>\n",
       "    <tr>\n",
       "      <th>12</th>\n",
       "      <td>Krankenhaus Hameln</td>\n",
       "      <td>https://www.google.com/maps/place/Sana+Kliniku...</td>\n",
       "      <td>https://www.klinikbewertungen.de/klinik-forum/...</td>\n",
       "    </tr>\n",
       "    <tr>\n",
       "      <th>13</th>\n",
       "      <td>AMEOS Klinikum Alfeld</td>\n",
       "      <td>https://www.google.com/maps/place/AMEOS+Klinik...</td>\n",
       "      <td>https://www.klinikbewertungen.de/klinik-forum/...</td>\n",
       "    </tr>\n",
       "    <tr>\n",
       "      <th>14</th>\n",
       "      <td>Helios Klinikum Hildesheim</td>\n",
       "      <td>https://www.google.com/maps/place/Helios+Klini...</td>\n",
       "      <td>https://www.klinikbewertungen.de/klinik-forum/...</td>\n",
       "    </tr>\n",
       "    <tr>\n",
       "      <th>15</th>\n",
       "      <td>AGAPLESION EV. KLINIKUM SCHAUMBURG</td>\n",
       "      <td>https://www.google.com/maps/place/AGAPLESION+E...</td>\n",
       "      <td>https://www.klinikbewertungen.de/klinik-forum/...</td>\n",
       "    </tr>\n",
       "    <tr>\n",
       "      <th>16</th>\n",
       "      <td>Helios Klinikum Cuxhaven</td>\n",
       "      <td>https://www.google.com/maps/place/HELIOS+Klini...</td>\n",
       "      <td>https://www.klinikbewertungen.de/klinik-forum/...</td>\n",
       "    </tr>\n",
       "    <tr>\n",
       "      <th>17</th>\n",
       "      <td>OsteMed Klinik Bremervörde</td>\n",
       "      <td>https://www.google.com/maps/place/OsteMed+Klin...</td>\n",
       "      <td>https://www.klinikbewertungen.de/klinik-forum/...</td>\n",
       "    </tr>\n",
       "    <tr>\n",
       "      <th>18</th>\n",
       "      <td>Klinik Fallingborstel</td>\n",
       "      <td>https://www.google.com/maps/place/Klinik+Falli...</td>\n",
       "      <td>https://www.klinikbewertungen.de/klinik-forum/...</td>\n",
       "    </tr>\n",
       "    <tr>\n",
       "      <th>19</th>\n",
       "      <td>Klinikum Emden</td>\n",
       "      <td>https://www.google.com/maps/place/Klinikum+Emd...</td>\n",
       "      <td>https://www.klinikbewertungen.de/klinik-forum/...</td>\n",
       "    </tr>\n",
       "    <tr>\n",
       "      <th>20</th>\n",
       "      <td>Krankenhaus Ludmillenstift</td>\n",
       "      <td>https://www.google.com/maps/place/Krankenhaus+...</td>\n",
       "      <td>https://www.klinikbewertungen.de/klinik-forum/...</td>\n",
       "    </tr>\n",
       "    <tr>\n",
       "      <th>21</th>\n",
       "      <td>Marienhospital Papenburg</td>\n",
       "      <td>https://www.google.com/maps/place/Marienkranke...</td>\n",
       "      <td>https://www.klinikbewertungen.de/klinik-forum/...</td>\n",
       "    </tr>\n",
       "    <tr>\n",
       "      <th>22</th>\n",
       "      <td>Kreiskrankenhaus Osterholz</td>\n",
       "      <td>https://www.google.com/maps/place/Kreiskranken...</td>\n",
       "      <td>https://www.klinikbewertungen.de/klinik-forum/...</td>\n",
       "    </tr>\n",
       "    <tr>\n",
       "      <th>23</th>\n",
       "      <td>Krankenhaus Soltau</td>\n",
       "      <td>ttps://www.google.com/maps/place/Heidekreis-Kl...</td>\n",
       "      <td>https://www.klinikbewertungen.de/klinik-forum/...</td>\n",
       "    </tr>\n",
       "  </tbody>\n",
       "</table>\n",
       "</div>"
      ],
      "text/plain": [
       "                                  Klinikname  \\\n",
       "0                    Augenklinik Dr.Hoffmann   \n",
       "1       Krankenhaus Marienstift Braunschweig   \n",
       "2   Herzogin Elisabeth Hospital Braunschweig   \n",
       "3           Asklepios Fachklinikum Göttingen   \n",
       "4         Asklepios Fachklinikum Tiefenbrunn   \n",
       "5                  Friederikenstift Hannover   \n",
       "6                         Annastift Hannover   \n",
       "7                            Clementinenhaus   \n",
       "8                     Sophienklinik Hannover   \n",
       "9                 KRH Klinikum Großburgwedel   \n",
       "10                       KRH Klinikum Lehrte   \n",
       "11                   Krankenhaus Lindenbrunn   \n",
       "12                        Krankenhaus Hameln   \n",
       "13                     AMEOS Klinikum Alfeld   \n",
       "14                Helios Klinikum Hildesheim   \n",
       "15        AGAPLESION EV. KLINIKUM SCHAUMBURG   \n",
       "16                  Helios Klinikum Cuxhaven   \n",
       "17                OsteMed Klinik Bremervörde   \n",
       "18                     Klinik Fallingborstel   \n",
       "19                            Klinikum Emden   \n",
       "20                Krankenhaus Ludmillenstift   \n",
       "21                  Marienhospital Papenburg   \n",
       "22                Kreiskrankenhaus Osterholz   \n",
       "23                        Krankenhaus Soltau   \n",
       "\n",
       "                                     Link Google Maps  \\\n",
       "0   https://www.google.com/maps/place/Augenklinik+...   \n",
       "1   https://www.google.com/maps/place/Krankenhaus+...   \n",
       "2   https://www.google.com/maps/place/Herzogin+Eli...   \n",
       "3   https://www.google.com/maps/place/Asklepios+Fa...   \n",
       "4   https://www.google.com/maps/place/Asklepios+Fa...   \n",
       "5   https://www.google.com/maps/place/DIAKOVERE+Fr...   \n",
       "6   https://www.google.com/maps/place/DIAKOVERE+An...   \n",
       "7   https://www.google.com/maps/place/DRK-Krankenh...   \n",
       "8   https://www.google.com/maps/place/Sophienklini...   \n",
       "9   https://www.google.com/maps/place/KRH+Klinikum...   \n",
       "10  https://www.google.com/maps/place/KRH+Klinikum...   \n",
       "11  https://www.google.com/maps/place/Krankenhaus+...   \n",
       "12  https://www.google.com/maps/place/Sana+Kliniku...   \n",
       "13  https://www.google.com/maps/place/AMEOS+Klinik...   \n",
       "14  https://www.google.com/maps/place/Helios+Klini...   \n",
       "15  https://www.google.com/maps/place/AGAPLESION+E...   \n",
       "16  https://www.google.com/maps/place/HELIOS+Klini...   \n",
       "17  https://www.google.com/maps/place/OsteMed+Klin...   \n",
       "18  https://www.google.com/maps/place/Klinik+Falli...   \n",
       "19  https://www.google.com/maps/place/Klinikum+Emd...   \n",
       "20  https://www.google.com/maps/place/Krankenhaus+...   \n",
       "21  https://www.google.com/maps/place/Marienkranke...   \n",
       "22  https://www.google.com/maps/place/Kreiskranken...   \n",
       "23  ttps://www.google.com/maps/place/Heidekreis-Kl...   \n",
       "\n",
       "                               Link Klinikbewertungen  \n",
       "0   https://www.klinikbewertungen.de/klinik-forum/...  \n",
       "1   https://www.klinikbewertungen.de/klinik-forum/...  \n",
       "2   https://www.klinikbewertungen.de/klinik-forum/...  \n",
       "3   https://www.klinikbewertungen.de/klinik-forum/...  \n",
       "4   https://www.klinikbewertungen.de/klinik-forum/...  \n",
       "5   https://www.klinikbewertungen.de/klinik-forum/...  \n",
       "6   https://www.klinikbewertungen.de/klinik-forum/...  \n",
       "7   https://www.klinikbewertungen.de/klinik-forum/...  \n",
       "8   https://www.klinikbewertungen.de/klinik-forum/...  \n",
       "9   https://www.klinikbewertungen.de/klinik-forum/...  \n",
       "10  https://www.klinikbewertungen.de/klinik-forum/...  \n",
       "11  https://www.klinikbewertungen.de/klinik-forum/...  \n",
       "12  https://www.klinikbewertungen.de/klinik-forum/...  \n",
       "13  https://www.klinikbewertungen.de/klinik-forum/...  \n",
       "14  https://www.klinikbewertungen.de/klinik-forum/...  \n",
       "15  https://www.klinikbewertungen.de/klinik-forum/...  \n",
       "16  https://www.klinikbewertungen.de/klinik-forum/...  \n",
       "17  https://www.klinikbewertungen.de/klinik-forum/...  \n",
       "18  https://www.klinikbewertungen.de/klinik-forum/...  \n",
       "19  https://www.klinikbewertungen.de/klinik-forum/...  \n",
       "20  https://www.klinikbewertungen.de/klinik-forum/...  \n",
       "21  https://www.klinikbewertungen.de/klinik-forum/...  \n",
       "22  https://www.klinikbewertungen.de/klinik-forum/...  \n",
       "23  https://www.klinikbewertungen.de/klinik-forum/...  "
      ]
     },
     "execution_count": 241,
     "metadata": {},
     "output_type": "execute_result"
    }
   ],
   "source": [
    "myExcelFrame"
   ]
  },
  {
   "cell_type": "markdown",
   "metadata": {},
   "source": [
    "wie kann man nur ein Säule/Column heraushellen\n",
    "* es wird nur den Säule name benötigt. DataFrame an der Stelle Name von Säule"
   ]
  },
  {
   "cell_type": "code",
   "execution_count": 242,
   "metadata": {},
   "outputs": [
    {
     "data": {
      "text/plain": [
       "0                      Augenklinik Dr.Hoffmann\n",
       "1         Krankenhaus Marienstift Braunschweig\n",
       "2     Herzogin Elisabeth Hospital Braunschweig\n",
       "3             Asklepios Fachklinikum Göttingen\n",
       "4           Asklepios Fachklinikum Tiefenbrunn\n",
       "5                    Friederikenstift Hannover\n",
       "6                           Annastift Hannover\n",
       "7                              Clementinenhaus\n",
       "8                       Sophienklinik Hannover\n",
       "9                   KRH Klinikum Großburgwedel\n",
       "10                         KRH Klinikum Lehrte\n",
       "11                     Krankenhaus Lindenbrunn\n",
       "12                          Krankenhaus Hameln\n",
       "13                       AMEOS Klinikum Alfeld\n",
       "14                  Helios Klinikum Hildesheim\n",
       "15          AGAPLESION EV. KLINIKUM SCHAUMBURG\n",
       "16                    Helios Klinikum Cuxhaven\n",
       "17                  OsteMed Klinik Bremervörde\n",
       "18                       Klinik Fallingborstel\n",
       "19                              Klinikum Emden\n",
       "20                  Krankenhaus Ludmillenstift\n",
       "21                    Marienhospital Papenburg\n",
       "22                  Kreiskrankenhaus Osterholz\n",
       "23                          Krankenhaus Soltau\n",
       "Name: Klinikname, dtype: object"
      ]
     },
     "execution_count": 242,
     "metadata": {},
     "output_type": "execute_result"
    }
   ],
   "source": [
    "myExcelFrame['Klinikname']"
   ]
  },
  {
   "cell_type": "markdown",
   "metadata": {},
   "source": [
    "---------"
   ]
  },
  {
   "cell_type": "markdown",
   "metadata": {},
   "source": [
    "* es ist schön, wenn man nur eine Zeile von der gleichen Säule sehen kann."
   ]
  },
  {
   "cell_type": "code",
   "execution_count": 243,
   "metadata": {},
   "outputs": [
    {
     "data": {
      "text/plain": [
       "'Augenklinik Dr.Hoffmann'"
      ]
     },
     "execution_count": 243,
     "metadata": {},
     "output_type": "execute_result"
    }
   ],
   "source": [
    "myExcelFrame['Klinikname'][0]"
   ]
  },
  {
   "cell_type": "markdown",
   "metadata": {},
   "source": [
    "***\n",
    "Achte bitte auf dieses Beispiel: erster Google Map Link Herausholen"
   ]
  },
  {
   "cell_type": "code",
   "execution_count": 244,
   "metadata": {},
   "outputs": [
    {
     "data": {
      "text/plain": [
       "'https://www.google.com/maps/place/Augenklinik+Dr.+Hoffmann/@52.2555789,10.5275976,15z/data=!4m2!3m1!1s0x0:0xe66ee9e189648187?sa=X&ved=2ahUKEwiUrOzD5_DuAhVLDOwKHUVOACkQ_BIwDHoECBgQBQ'"
      ]
     },
     "execution_count": 244,
     "metadata": {},
     "output_type": "execute_result"
    }
   ],
   "source": [
    "myExcelFrame['Link Google Maps'][0]"
   ]
  },
  {
   "cell_type": "markdown",
   "metadata": {},
   "source": [
    "***\n",
    "Achte bitte auf dieses Beispiel: erster WEB-Link Herausholen"
   ]
  },
  {
   "cell_type": "code",
   "execution_count": 245,
   "metadata": {},
   "outputs": [
    {
     "data": {
      "text/plain": [
       "'https://www.klinikbewertungen.de/klinik-forum/erfahrung-mit-augenklinik-dr-hoffmann-braunschweig'"
      ]
     },
     "execution_count": 245,
     "metadata": {},
     "output_type": "execute_result"
    }
   ],
   "source": [
    "myExcelFrame['Link Klinikbewertungen'][0]"
   ]
  },
  {
   "cell_type": "markdown",
   "metadata": {},
   "source": [
    "****\n",
    "# Now Can We Use requests"
   ]
  },
  {
   "cell_type": "code",
   "execution_count": 247,
   "metadata": {},
   "outputs": [],
   "source": [
    "#Sample Code to Use Request"
   ]
  },
  {
   "cell_type": "markdown",
   "metadata": {},
   "source": [
    "* import REQUESTS"
   ]
  },
  {
   "cell_type": "code",
   "execution_count": 248,
   "metadata": {},
   "outputs": [],
   "source": [
    "import requests\n"
   ]
  },
  {
   "cell_type": "code",
   "execution_count": 249,
   "metadata": {},
   "outputs": [],
   "source": [
    "link0 = myExcelFrame['Link Klinikbewertungen'][0]"
   ]
  },
  {
   "cell_type": "code",
   "execution_count": 250,
   "metadata": {},
   "outputs": [
    {
     "data": {
      "text/plain": [
       "'https://www.klinikbewertungen.de/klinik-forum/erfahrung-mit-augenklinik-dr-hoffmann-braunschweig'"
      ]
     },
     "execution_count": 250,
     "metadata": {},
     "output_type": "execute_result"
    }
   ],
   "source": [
    "link0"
   ]
  },
  {
   "cell_type": "code",
   "execution_count": 251,
   "metadata": {},
   "outputs": [],
   "source": [
    "page = requests.get(link0)"
   ]
  },
  {
   "cell_type": "code",
   "execution_count": 252,
   "metadata": {},
   "outputs": [
    {
     "data": {
      "text/plain": [
       "<Response [200]>"
      ]
     },
     "execution_count": 252,
     "metadata": {},
     "output_type": "execute_result"
    }
   ],
   "source": [
    "page #Important <Response [200]> is Ok."
   ]
  },
  {
   "cell_type": "code",
   "execution_count": 253,
   "metadata": {},
   "outputs": [],
   "source": [
    "#Now Use BeautifulSoup\n",
    "soup = BeautifulSoup(page.content, 'html.parser')"
   ]
  },
  {
   "cell_type": "code",
   "execution_count": 254,
   "metadata": {},
   "outputs": [],
   "source": [
    "#Get Title From Web Scraping\n",
    "title = soup.find(itemprop=\"name\")"
   ]
  },
  {
   "cell_type": "code",
   "execution_count": 255,
   "metadata": {},
   "outputs": [
    {
     "name": "stdout",
     "output_type": "stream",
     "text": [
      "<h1 itemprop=\"name\" style=\"display:inline-block\">Augenklinik - Dr. Hoffmann</h1>\n"
     ]
    }
   ],
   "source": [
    "print(title)\n"
   ]
  },
  {
   "cell_type": "code",
   "execution_count": 256,
   "metadata": {},
   "outputs": [
    {
     "data": {
      "text/plain": [
       "'Augenklinik - Dr. Hoffmann'"
      ]
     },
     "execution_count": 256,
     "metadata": {},
     "output_type": "execute_result"
    }
   ],
   "source": [
    "title.text"
   ]
  },
  {
   "cell_type": "code",
   "execution_count": 257,
   "metadata": {},
   "outputs": [
    {
     "data": {
      "text/plain": [
       "'Augenklinik - Dr. Hoffmann'"
      ]
     },
     "execution_count": 257,
     "metadata": {},
     "output_type": "execute_result"
    }
   ],
   "source": [
    "title.text"
   ]
  },
  {
   "cell_type": "code",
   "execution_count": 258,
   "metadata": {},
   "outputs": [],
   "source": [
    "#Now Time to Use 'For' Loops\n",
    "#All we have to do. That is, we extract all the information with the help of a 'For' loop"
   ]
  },
  {
   "cell_type": "code",
   "execution_count": 259,
   "metadata": {},
   "outputs": [
    {
     "data": {
      "text/plain": [
       "pandas.core.series.Series"
      ]
     },
     "execution_count": 259,
     "metadata": {},
     "output_type": "execute_result"
    }
   ],
   "source": [
    "type(myExcelFrame['Klinikname'])"
   ]
  },
  {
   "cell_type": "code",
   "execution_count": 260,
   "metadata": {},
   "outputs": [],
   "source": [
    "klinikNameList=[]\n",
    "googleUrlList=[]\n",
    "klinikUrlList=[]\n",
    "for index, row in myExcelFrame.iterrows():\n",
    "    klinikNameList.append(row['Klinikname'])\n",
    "    googleUrlList.append(row['Link Google Maps'])\n",
    "    klinikUrlList.append(row['Link Klinikbewertungen']+'/bewertungen?allbew#more')\n"
   ]
  },
  {
   "cell_type": "raw",
   "metadata": {},
   "source": []
  },
  {
   "cell_type": "code",
   "execution_count": 261,
   "metadata": {},
   "outputs": [
    {
     "name": "stdout",
     "output_type": "stream",
     "text": [
      "['https://www.klinikbewertungen.de/klinik-forum/erfahrung-mit-augenklinik-dr-hoffmann-braunschweig/bewertungen?allbew#more', 'https://www.klinikbewertungen.de/klinik-forum/erfahrung-mit-krankenhaus-marienstift-braunschweig/bewertungen?allbew#more', 'https://www.klinikbewertungen.de/klinik-forum/erfahrung-mit-kliniken-herzogin-elisabeth-braunschweig/bewertungen?allbew#more', 'https://www.klinikbewertungen.de/klinik-forum/erfahrung-mit-krankenhaus-goettingen/bewertungen?allbew#more', 'https://www.klinikbewertungen.de/klinik-forum/erfahrung-mit-krankenhaus-tiefenbrunn-rosdorf/bewertungen?allbew#more', 'https://www.klinikbewertungen.de/klinik-forum/erfahrung-mit-krankenhaus-friederikenstift-hannover/bewertungen?allbew#more', 'https://www.klinikbewertungen.de/klinik-forum/erfahrung-mit-annastift-hannover/bewertungen?allbew#more', 'https://www.klinikbewertungen.de/klinik-forum/erfahrung-mit-drk-clementinenhaus-hannover/bewertungen?allbew#more', 'https://www.klinikbewertungen.de/klinik-forum/erfahrung-mit-sophien-klinik-hannover/bewertungen?allbew#more', 'https://www.klinikbewertungen.de/klinik-forum/erfahrung-mit-krankenhaus-grossburgwedel/bewertungen?allbew#more', 'https://www.klinikbewertungen.de/klinik-forum/erfahrung-mit-krankenhaus-lehrte/bewertungen?allbew#more', 'https://www.klinikbewertungen.de/klinik-forum/erfahrung-mit-krankenhaus-lindenbrunn-coppenbruegge/bewertungen?allbew#more', 'https://www.klinikbewertungen.de/klinik-forum/erfahrung-mit-krankenhaus-hameln/bewertungen?allbew#more', 'https://www.klinikbewertungen.de/klinik-forum/erfahrung-mit-kreis-und-stadtkrankenhaus-alfeld/bewertungen?allbew#more', 'https://www.klinikbewertungen.de/klinik-forum/erfahrung-mit-krankenhaus-hildesheim/bewertungen?allbew#more', 'https://www.klinikbewertungen.de/klinik-forum/erfahrung-mit-krankenhaus-bethel-bueckeburg/bewertungen?allbew#more', 'https://www.klinikbewertungen.de/klinik-forum/erfahrung-mit-stadtkrankenhaus-cuxhaven/bewertungen?allbew#more', 'https://www.klinikbewertungen.de/klinik-forum/erfahrung-mit-krankenhaus-bremervoerde/bewertungen?allbew#more', 'https://www.klinikbewertungen.de/klinik-forum/erfahrung-mit-klinik-fallingbostel/bewertungen?allbew#more', 'https://www.klinikbewertungen.de/klinik-forum/erfahrung-mit-klinikum-emden/bewertungen?allbew#more', 'https://www.klinikbewertungen.de/klinik-forum/erfahrung-mit-krankenhaus-ludmillenstift-meppen/bewertungen?allbew#more', 'https://www.klinikbewertungen.de/klinik-forum/erfahrung-mit-marienhospital-papenburg/bewertungen?allbew#more', 'https://www.klinikbewertungen.de/klinik-forum/erfahrung-mit-krankenhaus-osterholz-scharmbeck/bewertungen?allbew#more', 'https://www.klinikbewertungen.de/klinik-forum/erfahrung-mit-krankenhaus-soltau/bewertungen?allbew#more']\n"
     ]
    }
   ],
   "source": [
    "print(klinikUrlList)\n"
   ]
  },
  {
   "cell_type": "code",
   "execution_count": 262,
   "metadata": {},
   "outputs": [],
   "source": [
    "Titles =[]\n"
   ]
  },
  {
   "cell_type": "code",
   "execution_count": 263,
   "metadata": {},
   "outputs": [],
   "source": [
    "i =0"
   ]
  },
  {
   "cell_type": "code",
   "execution_count": 265,
   "metadata": {},
   "outputs": [
    {
     "name": "stdout",
     "output_type": "stream",
     "text": [
      "<Response [200]>\n",
      "<Response [200]>\n",
      "<Response [200]>\n"
     ]
    }
   ],
   "source": [
    "for link in klinikUrlList:\n",
    "    if i>15:\n",
    "        break\n",
    "    \n",
    "    pages = requests.get(link)\n",
    "    print(pages)\n",
    "    i= i+1\n"
   ]
  },
  {
   "cell_type": "code",
   "execution_count": 300,
   "metadata": {},
   "outputs": [],
   "source": [
    "def getPage( link):\n",
    "    page = requests.get( link)\n",
    "    sourcepage = BeautifulSoup(page.content, 'html.parser')\n",
    "    return sourcepage"
   ]
  },
  {
   "cell_type": "code",
   "execution_count": 274,
   "metadata": {
    "tags": [
     "outputPrepend"
    ]
   },
   "outputs": [
    {
     "name": "stdout",
     "output_type": "stream",
     "text": [
      " su dispositivo si son estrictamente necesarias para el funcionamiento de este sitio. Para todos los demás tipos de cookies que contienen información personal, necesitamos su permiso.\\nEste sitio utiliza diferentes tipos de cookies. Algunas cookies son colocadas por servicios de terceros que aparecen en nuestras páginas.\",\"necessaryCategory\":\"Necesarias\",\"necessaryDescription\":\"Las cookies necesarias ayudan a que un sitio web sea utilizable al habilitar funciones básicas como la navegación de páginas y el acceso a áreas seguras del sitio web. El sitio web no puede funcionar correctamente sin estas cookies.\",\"preferenceCategory\":\"Preferencias\",\"preferenceDescription\":\"Las cookies de preferencias, permiten que un sitio web guarde la información que modifica, la forma en que se comporta o se ve el sitio web, así como, su idioma preferido o la región en la que se encuentra.\",\"statisticsCategory\":\"Estadísticas\",\"statisticsDescription\":\"Las cookies de estadísticas ayudan a los propietarios de los sitios web, a comprender cómo los visitantes interactúan con los sitios mediante la recolección y reporte de información anónima.\",\"marketingCategory\":\"Mercadeo\",\"marketingDescription\":\"Las cookies de mercadeo se utilizan para seguir a los visitantes en los sitios web. La intención es mostrar anuncios que sean relevantes y atractivos para el usuario y, por tanto, más valiosos para editores y anunciantes externos.\",\"unclassifiedCategory\":\"Sin clasificación\",\"unclassifiedDescription\":\"Las cookies no clasificadas son cookies que estamos en proceso de clasificar, junto con los proveedores de cookies individuales.\",\"cookieDetailsLink\":\"Detalles de Cookies\",\"aboutCookiesLink\":\"Acerca de las Cookies\",\"privacyPolicyLink\":\"Enlace de políticas de privacidad\",\"columnName\":\"Nombre\",\"columnPurpose\":\"Propósito\",\"columnPII\":\"Puede contener información personal\",\"columnDuration\":\"Duración\",\"mainHeading\":\"Privacidad y transparencia\",\"purposes\":\"Propósitos\",\"legitimateInterest\":\"Interés legítimo\",\"consent\":\"Consentimiento\",\"specialPurposes\":\"Fines especiales\",\"manageSettings\":\"Administrar configuración\",\"saveSettings\":\"Guardar configuración y salir\",\"vendors\":\"Lista de proveedores\",\"nonTcfVendors\":\"Proveedores adicionales\",\"features\":\"Funciones\",\"specialFeatures\":\"Funciones especiales\",\"acceptAllButton\":\"Aceptar todo y continuar\",\"purposePrefix\":\"Nosotros y nuestros socios utilizamos cookies para \",\"stackPrefix\":\"Nosotros y nuestros socios usamos datos para \",\"mainBody\":\"Un ejemplo de datos procesados ​​puede ser un identificador único almacenado en una cookie. Algunos de nuestros socios pueden procesar sus datos como parte de su interés comercial legítimo sin solicitar su consentimiento. Para ver los propósitos que creen que tienen interés legítimo u oponerse a este procesamiento de datos, utilice el enlace de la lista de proveedores a continuación. El consentimiento enviado solo se utilizará para el procesamiento de datos que tienen su origen en este sitio web. Si desea cambiar su configuración o retirar el consentimiento en cualquier momento, el enlace hacerlo está en nuestra política de privacidad accesible desde nuestra página de inicio.\"},{\"id\":1715,\"did\":0,\"language\":\"it\",\"dialogHeading\":\"questo sito usa i cookie\",\"dialogBody\":\"Questo sito web utilizza i cookie per personalizzare i contenuti, fornire esperienze personalizzate, annunci mirati, fornire funzionalità di social media e analizzare il nostro traffico. Condividiamo anche informazioni sull'utilizzo del nostro sito con i nostri partner di social media, pubblicità e analisi che possono combinare con altre informazioni che avete fornito loro o che hanno raccolto dall'utilizzo dei loro servizi da parte vostra. Di seguito avete la possibilità di selezionare quali tipi di cookie consentite di memorizzare le vostre informazioni personali. Per visualizzare l'elenco dei fornitori o modificare le impostazioni di consenso in qualsiasi momento, visitate la nostra politica sulla privacy utilizzando il link sottostante\",\"declineButton\":\"accettare necessario\",\"acceptButton\":\"accetta tutto e continua\",\"okButton\":\"accetta\",\"cookieInfo\":\"I cookie sono piccoli file di testo che possono essere utilizzati dai siti web per rendere più efficiente l'esperienza dell'utente. La legge afferma che possiamo memorizzare i cookie che contengono informazioni personali sul tuo dispositivo se sono strettamente necessari per il funzionamento di questo sito. Per tutti gli altri tipi di cookie che contengono informazioni personali abbiamo bisogno della tua autorizzazione. Questo sito utilizza diversi tipi di cookie. Alcuni cookie sono inseriti da servizi di terze parti che compaiono sulle nostre pagine.\",\"necessaryCategory\":\"necessario\",\"necessaryDescription\":\"I cookie di preferenza consentono ad un sito web di memorizzare informazioni che cambiano il modo in cui il sito web si comporta o il suo aspetto, come la lingua preferita, o la regione in cui ci si trova\",\"preferenceCategory\":\"preferenze\",\"preferenceDescription\":\"I cookie di preferenza consentono a un sito web di ricordare le informazioni che cambiano il modo in cui il sito web si comporta o appare, come la tua lingua preferita o la regione in cui ti trovi.\",\"statisticsCategory\":\"statistiche\",\"statisticsDescription\":\"I cookie statistici aiutano i proprietari dei siti web a capire come i visitatori interagiscono con i siti raccogliendo e trasmettendo informazioni in forma anonima.\",\"marketingCategory\":\"marketing\",\"marketingDescription\":\"I cookie per il marketing vengono utilizzati per tracciare i visitatori dei siti web. L'intenzione è quella di visualizzare annunci che siano rilevanti e coinvolgenti per il singolo utente e quindi di maggior valore per gli editori e gli inserzionisti di terze parti\",\"unclassifiedCategory\":\" \",\"unclassifiedDescription\":\" \",\"cookieDetailsLink\":\"dettagli cookie\",\"aboutCookiesLink\":\"informazioni sui cookie\",\"privacyPolicyLink\":\"informativa sulla privacy\",\"columnName\":\" \",\"columnPurpose\":\" \",\"columnPII\":\" \",\"columnDuration\":\" \",\"mainHeading\":\"privacy e trasparenza\",\"purposes\":\"finalita\",\"legitimateInterest\":\"interesse legittimo\",\"consent\":\"consentire\",\"specialPurposes\":\"scopi specifici\",\"manageSettings\":\"gestire le impostazioni\",\"saveSettings\":\"accetta\",\"vendors\":\"lista dei fornitori\",\"nonTcfVendors\":\"fornitori aggiuntivi\",\"features\":\"caratteristiche\",\"specialFeatures\":\"caratteristiche speciali\",\"acceptAllButton\":\"accetta tutto e continua\",\"purposePrefix\":\"Noi e i nostri partner utilizziamo i cookie per\",\"stackPrefix\":\"Noi e i nostri partner utilizziamo i cookie per\",\"mainBody\":\"Un esempio di trattamento dei dati può essere un identificatore univoco memorizzato in un cookie. Alcuni dei nostri partner possono trattare i vostri dati come parte del loro legittimo interesse commerciale senza chiedere il consenso. Per visualizzare le finalità per le quali ritengono di avere un interesse legittimo o per opporsi a questo trattamento dei dati, utilizzare il link della lista dei fronitori qui sotto. Il consenso fornito sarà utilizzato solo per il trattamento dei dati provenienti da questo sito web. Se si desidera modificare le impostazioni o non dare il consenso in qualsiasi momento, il link per farlo è nella nostra politica sulla privacy accessibile dalla nostra home page\"}]},\"settings\":{\"DomainSettingId\":2953,\"DomainId\":143411,\"defaultLanguage\":\"de\",\"IsDialogEnabled\":true,\"IsOrigDialogEnabled\":true,\"IsMinorContent\":false,\"IsTCF2\":false,\"IsAMPDialogEnabled\":false,\"AutoDetectLanguage\":true,\"IsThirdParty\":false,\"IsWorldWide\":false,\"IsIabLspaSignatory\":false,\"ShowAcceptNecessaryButton\":false,\"ShowCategoryCheckboxes\":false,\"dialogAccentColor\":\"#5fa624\",\"dialogBackgroundColor\":\"#ffffff\",\"dialogTextColor\":\"#000000\",\"checkedConsentBoxes\":\"preference,statistics\",\"country\":\"US\",\"ccpaBannerPosition\":\"bottom\",\"AltConsentEnabled\":true,\"hasNoConsentPage\":false},\"vendors\":{\"vendorList\":null},\"ezCMP\":\"ezCMPCookieConsent\",\"ckLength\":365,\"cmpAllCookies\":null,\"cmpCookieTranslations\":null,\"privacy\":\"http://www.medizinfo.de/html/datenschutzerklaerung.html\"},\n",
      "\tstyles: '#ez-cookie-dialog-wrapper {width: 100% !important;height: 100% !important;margin: 0 auto !important;position: fixed !important;top: 0 !important;left: 0 !important;background-color: rgba(0, 0, 0, 0.5) !important;font-family: Arial, serif !important;z-index: 2000000000 !important;overflow-y: auto !important;}#ez-cookie-dialog-wrapper #ez-cookie-dialog #ez-cookie-table-box {overflow-y: auto !important;max-height: 150px !important;}#ez-cookie-dialog-wrapper #ez-cookie-dialog .select-wrapper span, #ez-cookie-dialog-wrapper #ez-cookie-dialog .select-wrapper ul, #ez-cookie-dialog-wrapper #ez-cookie-dialog .select-wrapper input {display: none !important;}#ez-cookie-dialog-wrapper #ez-cookie-dialog {display: block !important;position: relative !important;opacity: 1 !important;visibility: visible !important;margin: 150px auto 0 !important;width: 650px !important;-webkit-box-sizing: content-box !important;-moz-box-sizing: content-box !important;box-sizing: content-box !important;max-width: 90% !important;background: {background_color}!important;padding: 12px 24px !important;overflow: hidden !important;z-index: 2000000000 !important;border: 10px solid {accent_color}!important;box-shadow: #333 1px 1px 10px 1px !important;line-height: 1.2 !important;text-align: left !important;}#ez-cookie-dialog-wrapper #ez-cookie-dialog h2 {font-size: 20px !important;line-height: 16px !important;font-weight: 700 !important;margin: 10px 0 16px !important;}#ez-cookie-dialog-wrapper #ez-cookie-dialog p {margin: 12px 0 !important;line-height: 16px !important;text-indent: 0 !important;}#ez-cookie-dialog-wrapper #ez-cookie-dialog button {line-height: 16px !important;text-transform: none !important;}#ez-cookie-dialog-wrapper #ez-cookie-dialog select, #ez-cookie-dialog-wrapper #ez-cookie-dialog input {display: inline-block !important;position: relative !important;opacity: 1 !important;margin: 3px !important;font-size: 13px !important;color: {text_color};background-color: {background_color}!important;width: initial !important;padding: 0 !important;border: 1px solid {accent_color}!important;border-radius: 0 !important;height: initial !important;}#ez-cookie-dialog-wrapper #ez-cookie-dialog a, #ez-cookie-dialog-wrapper #ez-cookie-dialog p, #ez-cookie-dialog-wrapper #ez-cookie-dialog h2, #ez-cookie-dialog-wrapper #ez-cookie-dialog button {color: {text_color}!important;font-style: normal !important;text-decoration: none !important;font-variant: normal !important;font-family: Arial, serif !important;box-shadow: none !important;}#ez-cookie-dialog-wrapper #ez-cookie-dialog p, #ez-cookie-dialog-wrapper #ez-cookie-dialog #ez-cookie-details-description, #ez-cookie-dialog-wrapper #ez-cookie-dialog button {font-weight: 400 !important;font-size: 10pt !important;}#ez-cookie-dialog-wrapper #ez-cookie-dialog #ez-cookie-details-description {padding: 10px 0 5px !important;color: {text_color}!important;}#ez-cookie-dialog-wrapper #ez-cookie-dialog #ez-cookie-details {height: 34px !important;}#ez-cookie-dialog-wrapper #ez-cookie-dialog #ez-cookie-details, #ez-cookie-dialog-wrapper #ez-cookie-dialog #ez-about-cookies {display: table-cell !important;color: {accent_color}!important;vertical-align: bottom !important;position: relative !important;}#ez-cookie-dialog-wrapper #ez-cookie-dialog #ez-cookie-details:after {width: 0px !important;height: 0px !important;border-left: 4px solid transparent !important;border-right: 4px solid transparent !important;border-top: 4px solid {accent_color}!important;content: \"\" !important;position: absolute !important;right: -14px !important;bottom: 6px !important;}#ez-cookie-dialog-wrapper #ez-cookie-dialog #ez-cookie-details.open:after {border-bottom: 4px solid {accent_color}!important;border-top: 0 solid transparent !important;}#ez-cookie-dialog-wrapper #ez-cookie-dialog #ez-about-cookies-text {display: none !important;margin-top: 12px !important;text-align: left !important;}#ez-cookie-dialog-wrapper #ez-cookie-dialog #ez-necessary-cookies {border: none !important;font-family: Arial, serif !important;color: #ffffff !important;background: #333333 !important;padding: 10px 20px 10px 20px !important;text-decoration: none !important;}#ez-cookie-dialog-wrapper #ez-cookie-dialog #ez-necessary-cookies:hover {cursor: pointer !important;background: #111111 !important;text-decoration: none !important;}#ez-cookie-dialog-wrapper #ez-cookie-dialog #ez-all-cookies {border: none !important;font-family: Arial, serif !important;color: {accept_button_text_color}!important;background: {accent_color}!important;padding: 10px 20px 10px 20px !important;text-decoration: none !important;}#ez-cookie-dialog-wrapper #ez-cookie-dialog #ez-all-cookies:hover {cursor: pointer !important;background: {accent_color}!important;text-decoration: none !important;}#ez-cookie-dialog-wrapper #ez-cookie-dialog #privacy-link {font-size: 12px !important;display: block !important;margin-top: 20px !important;text-decoration: underline !important;}#ez-cookie-dialog-wrapper #ez-cookie-dialog #ez-ok-cookies {border: 1px solid {background_color}!important;font-family: Arial, serif !important;font-size: 9pt !important;color: {text_color}!important;background: {background_color}!important;padding: 5px 15px !important;text-decoration: none !important;}#ez-cookie-dialog-wrapper #ez-cookie-dialog #ez-ok-cookies:hover {cursor: pointer !important;background: {background_color}!important;text-decoration: none !important;}#ez-cookie-dialog-wrapper #ez-cookie-dialog #ez-about-cookies-container {margin: 32px auto 12px !important;width: 100% !important;display: none !important;}#ez-cookie-dialog-wrapper #ez-cookie-dialog a {color: {accent_color}!important;text-decoration: none !important;}#ez-cookie-dialog-wrapper #ez-cookie-dialog #privacy {text-align: right !important;}#ez-cookie-dialog-wrapper #ez-cookie-dialog #ez-cookie-options {display: flex !important;flex-direction: row !important;margin: 12px 0 !important;}#ez-cookie-dialog-wrapper #ez-cookie-dialog #ez-cookie-details-container {display: none !important;}#ez-cookie-dialog-wrapper #ez-cookie-dialog .ez-cookie-option {flex: 1 !important;font-family: Arial, serif !important;font-size: 9pt !important;display: block !important;line-height: 26px !important;color: {text_color}!important;}#ez-cookie-dialog-wrapper #ez-cookie-dialog .ez-cookie-option label {cursor: pointer !important;font-size: 12px !important;color: {text_color}!important;}#ez-cookie-dialog-wrapper #ez-cookie-dialog #ez-cookie-table {max-width: 525px !important;width: 525px !important;margin-top: 12px !important;font-family: Arial, serif !important;border-spacing: 1px !important;font-size: 8pt !important;border-collapse: separate !important;background-color: {background_color}!important;}#ez-cookie-dialog-wrapper #ez-cookie-dialog #ez-cookie-table th {background-color: {background_color}!important;color: {text_color}!important;}#ez-cookie-dialog-wrapper #ez-cookie-dialog #button-row {display: flex !important;flex-wrap: nowrap !important;justify-content: space-between !important;margin-right: 10px !important;}#ez-cookie-dialog-wrapper #ez-cookie-dialog #secondary-links {display: flex !important;font-size: 12px !important;margin-top: 20px !important;}#ez-cookie-dialog-wrapper #ez-cookie-dialog #secondary-links .bar {margin: 0 5px !important;width:auto!important;height:auto!important;position:relative!important;background:0 0!important;}#ez-cookie-dialog-wrapper #ez-cookie-dialog #ez-cookie-table td {background-color: {background_color}!important;font-size: 8pt !important;width: 30% !important;-ms-word-break: break-word !important;word-break: break-word !important;color: {text_color}!important;}#ez-cookie-dialog-wrapper #ez-cookie-dialog #ez-cookie-table td:nth-child(1) {width: 30% !important;}#ez-cookie-dialog-wrapper #ez-cookie-dialog #ez-cookie-table td:nth-child(2) {width: 50% !important;}#ez-cookie-dialog-wrapper #ez-cookie-dialog #ez-cookie-table td:nth-child(3) {width: 20% !important;}#ez-cookie-dialog-wrapper #ez-cookie-dialog #ez-cookie-table th, #ez-cookie-dialog-wrapper #ez-cookie-dialog #ez-cookie-table td {text-align: left !important;padding: 3px !important;vertical-align: top !important;}#ez-cookie-dialog-wrapper #ez-cookie-dialog .ez-cookie-option input {vertical-align: middle !important;}#ez-cookie-dialog-wrapper #ez-cookie-dialog #ez-cookie-language {position: absolute !important;top: 10px !important;right: 10px !important;color: {text_color}!important;}@media only screen and (max-width: 600px) {#ez-cookie-dialog-wrapper #ez-cookie-dialog {margin-top: 5px !important;width: 100% !important;padding: 10px !important;border-width: 5px !important;}#ez-cookie-dialog-wrapper #ez-cookie-dialog #button-row {flex-direction: column !important;}#ez-cookie-dialog-wrapper #ez-cookie-dialog #ez-cookie-options {flex-direction: column !important;}#ez-cookie-dialog-wrapper #ez-cookie-dialog #ez-necessary-cookies {margin-bottom: 5px !important;}#ez-cookie-dialog-wrapper #ez-cookie-dialog h2 {margin: 5px 0 !important;margin-right: 44px !important;font-size: 16px !important;}#ez-cookie-dialog-wrapper #ez-cookie-dialog #ez-cookie-table-box {overflow-y: auto !important;max-height: 100px !important;}}.cDuration {display: none;}',\n",
      "\twrapper: '<div id=\"ez-cookie-dialog-wrapper\"> <div id=\"ez-cookie-dialog\"> <select id=\"ez-cookie-language\" onchange=\"ezCMP.changeLanguage(this.value)\">{language-options}</select> <div id=\"ez-cookie-form\"></div> </div></div>',\n",
      "\ttemplate:'<div id=\"ez-cookie-template\"> <h2>{dialog-heading}</h2> <p>{dialog-body}</p><p><span id=\"button-row\"> <span> <button id=\"ez-necessary-cookies\" style=\"display:{decline-botton-text-display}\" onclick=\"ezCMP.handleDeclineClick()\">{decline-button-text}</button> <button id=\"ez-all-cookies\" onclick=\"ezCMP.handleAcceptClick()\">{accept-button-text}</button> </span> <span> <a id=\"ez-cookie-details\" onclick=\"ezCMP.toggleDetails(true)\" href=\"javascript:void(0);\">{cookie-details-link}</a> </span> </span> </p><div id=\"ez-cookie-options\" style=\"display:{cookie-options-display}\"> <div class=\"ez-cookie-option\"><label><input id=\"ez-cookie-option-necessary\" type=\"checkbox\" value=\"1\" disabled checked/>{necessary}</label></div><div class=\"ez-cookie-option\"><label><input id=\"ez-cookie-option-preference\" type=\"checkbox\" value=\"0\"{preference-checked}/>{preference}</label></div><div class=\"ez-cookie-option\"><label><input id=\"ez-cookie-option-statistics\" type=\"checkbox\" value=\"0\"{statistics-checked}/>{statistics}</label></div><div class=\"ez-cookie-option\"><label><input id=\"ez-cookie-option-marketing\" type=\"checkbox\" value=\"0\"{marketing-checked}/>{marketing}</label></div><div class=\"ez-cookie-option\"><button id=\"ez-ok-cookies\" onclick=\"ezCMP.handleOkClick()\">{ok-button-text}</button></div></div><div id=\"ez-cookie-details-container\"> <div> <select onchange=\"ezCMP.loadDetails(this.value)\"> <option value=\"necessary\">{necessary}</option> <option value=\"preference\">{preference}</option> <option value=\"statistics\">{statistics}</option> <option value=\"marketing\">{marketing}</option> <option value=\"unclassified\">{unclassified}</option> </select> </div><div id=\"ez-cookie-details-description\"></div><div style=\"overflow-x:auto;\" id=\"ez-cookie-table-box\"> <table id=\"ez-cookie-table\"> <thead> <tr> <th>{column-name}</th> <th>{column-purpose}</th> <th>{column-pii}</th> <th class=\"cDuration\">{column-duration}</th> </tr></thead> <tbody id=\"ez-cookie-table-body\"> </tbody> </table> </div></div><p id=\"ez-about-cookies-text\">{cookie-info}</p><div id=\"secondary-links\"> <a id=\"ez-about-cookies\" href=\"javascript:void(0);\" onclick=\"ezCMP.toggleAbout()\">{about-cookies-link}</a> <span class=\"bar\">|</span> <a href=\"{privacy}\" target=\"_privacy\">{privacy-link}</a> </div></div>'\n",
      "};\n",
      "</script>\n",
      "<script src=\"https://ezodn.com/cmp/altconsent.js?v=8\" type=\"text/javascript\"></script>\n",
      "<script async=\"\" src=\"/utilcave_com/inc/ezcl.webp?cb=4\" type=\"text/javascript\"></script></body></html>\n"
     ]
    }
   ],
   "source": [
    "print(getPage(klinikUrlList[0]))\n",
    "page =getPage(klinikUrlList[0])"
   ]
  },
  {
   "cell_type": "code",
   "execution_count": 377,
   "metadata": {},
   "outputs": [],
   "source": [
    "def getelement(sourcepage,tag,htmlClass=''):\n",
    "    #Get Title From Web Scraping\n",
    "    #title = soup.find(itemprop=\"name\")\n",
    "    \n",
    "    #select('h1.listing-name')[0].text.strip()\n",
    "    return sourcepage.find_all(tag,htmlClass)"
   ]
  },
  {
   "cell_type": "code",
   "execution_count": 398,
   "metadata": {},
   "outputs": [],
   "source": [
    "title = getelement(page,'h1')[0].text\n",
    "fach =getelement(page,'a','js-tooltip')[0].text"
   ]
  },
  {
   "cell_type": "code",
   "execution_count": 402,
   "metadata": {},
   "outputs": [
    {
     "name": "stdout",
     "output_type": "stream",
     "text": [
      "title:  Augenklinik - Dr. Hoffmann Fach : Augen\n"
     ]
    }
   ],
   "source": [
    "print('title: ',title, 'Fach :', fach)"
   ]
  },
  {
   "cell_type": "code",
   "execution_count": 465,
   "metadata": {
    "tags": []
   },
   "outputs": [],
   "source": [
    "Star = getelement(page,'dd')\n"
   ]
  },
  {
   "cell_type": "code",
   "execution_count": 472,
   "metadata": {
    "tags": []
   },
   "outputs": [
    {
     "name": "stdout",
     "output_type": "stream",
     "text": [
      "[<img alt=\"recht gute Erfahrung\" class=\"star-4\" src=\"/res/img/rating/stars-total.png\"/>]\n"
     ]
    }
   ],
   "source": [
    "data =getelement(Star[0],'img','star-4')\n",
    "print (data)"
   ]
  },
  {
   "cell_type": "code",
   "execution_count": null,
   "metadata": {},
   "outputs": [],
   "source": []
  }
 ],
 "metadata": {
  "kernelspec": {
   "display_name": "Python 3",
   "language": "python",
   "name": "python3"
  },
  "language_info": {
   "codemirror_mode": {
    "name": "ipython",
    "version": 3
   },
   "file_extension": ".py",
   "mimetype": "text/x-python",
   "name": "python",
   "nbconvert_exporter": "python",
   "pygments_lexer": "ipython3",
   "version": "3.8.5"
  }
 },
 "nbformat": 4,
 "nbformat_minor": 4
}
