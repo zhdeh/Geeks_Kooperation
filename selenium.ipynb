{
 "cells": [
  {
   "cell_type": "markdown",
   "metadata": {},
   "source": [
    "# Herzlich willkommen in scraping Projekt\n",
    "    ich have vor,\n",
    "         Beautifulsoup , Selenium und Scrapy Bibliotheken zu benutzen."
   ]
  },
  {
   "cell_type": "markdown",
   "metadata": {},
   "source": [
    "*********************************\n",
    "erster Schrit: Importieren benötigte Bibliotheken"
   ]
  },
  {
   "cell_type": "code",
   "execution_count": 56,
   "metadata": {},
   "outputs": [],
   "source": [
    "import pandas as pd\n",
    "import json"
   ]
  },
  {
   "cell_type": "markdown",
   "metadata": {},
   "source": [
    "Pandas – Python Data Analysis Library – ist eine Bibliothek für Python. Sie erfordert NumPy und lässt sich für die Verwaltung und Analyse von Daten einsetzen\n",
    "\n",
    "JSON bietet einen einfachen Standard für die strukturierte Kodierung von Daten in Form von menschenlesbarem Text"
   ]
  },
  {
   "cell_type": "markdown",
   "metadata": {},
   "source": [
    " Die Bibliotheken wurden importiert.\n",
    "# Zeit zu mit Daten zu arbeiten"
   ]
  },
  {
   "cell_type": "code",
   "execution_count": 237,
   "metadata": {},
   "outputs": [],
   "source": []
  },
  {
   "cell_type": "markdown",
   "metadata": {},
   "source": [
    "man muss Die Execel Datei öffnen, dafür wird Funktion read_excel benutzt.\n",
    "* es wird In einer Variabele auf den Namen myExcelFrame abgespeichert."
   ]
  },
  {
   "cell_type": "code",
   "execution_count": 57,
   "metadata": {},
   "outputs": [],
   "source": [
    "myExcelFrame = pd.read_excel ('http://4it4.com/Klinikliste.xlsx' )"
   ]
  },
  {
   "cell_type": "markdown",
   "metadata": {},
   "source": [
    "wie man Columns sehen. mit Hilfe von dem Wort columns"
   ]
  },
  {
   "cell_type": "code",
   "execution_count": 58,
   "metadata": {},
   "outputs": [
    {
     "output_type": "execute_result",
     "data": {
      "text/plain": [
       "Index(['Klinikname', 'Link Google Maps', 'Link Klinikbewertungen'], dtype='object')"
      ]
     },
     "metadata": {},
     "execution_count": 58
    }
   ],
   "source": [
    "myExcelFrame.columns"
   ]
  },
  {
   "cell_type": "markdown",
   "metadata": {},
   "source": [
    "* was ich noch brauche, ist Range of meine Dataframe Index"
   ]
  },
  {
   "cell_type": "code",
   "execution_count": 59,
   "metadata": {},
   "outputs": [
    {
     "output_type": "execute_result",
     "data": {
      "text/plain": [
       "RangeIndex(start=0, stop=24, step=1)"
      ]
     },
     "metadata": {},
     "execution_count": 59
    }
   ],
   "source": [
    "myExcelFrame.index"
   ]
  },
  {
   "cell_type": "markdown",
   "metadata": {},
   "source": [
    "dürfen wir jetzt ganze Tabele sehen. das ist Quele Tabele "
   ]
  },
  {
   "cell_type": "code",
   "execution_count": 60,
   "metadata": {},
   "outputs": [
    {
     "output_type": "execute_result",
     "data": {
      "text/plain": [
       "                                  Klinikname  \\\n",
       "0                    Augenklinik Dr.Hoffmann   \n",
       "1       Krankenhaus Marienstift Braunschweig   \n",
       "2   Herzogin Elisabeth Hospital Braunschweig   \n",
       "3           Asklepios Fachklinikum Göttingen   \n",
       "4         Asklepios Fachklinikum Tiefenbrunn   \n",
       "5                  Friederikenstift Hannover   \n",
       "6                         Annastift Hannover   \n",
       "7                            Clementinenhaus   \n",
       "8                     Sophienklinik Hannover   \n",
       "9                 KRH Klinikum Großburgwedel   \n",
       "10                       KRH Klinikum Lehrte   \n",
       "11                   Krankenhaus Lindenbrunn   \n",
       "12                        Krankenhaus Hameln   \n",
       "13                     AMEOS Klinikum Alfeld   \n",
       "14                Helios Klinikum Hildesheim   \n",
       "15        AGAPLESION EV. KLINIKUM SCHAUMBURG   \n",
       "16                  Helios Klinikum Cuxhaven   \n",
       "17                OsteMed Klinik Bremervörde   \n",
       "18                     Klinik Fallingborstel   \n",
       "19                            Klinikum Emden   \n",
       "20                Krankenhaus Ludmillenstift   \n",
       "21                  Marienhospital Papenburg   \n",
       "22                Kreiskrankenhaus Osterholz   \n",
       "23                        Krankenhaus Soltau   \n",
       "\n",
       "                                     Link Google Maps  \\\n",
       "0   https://www.google.com/maps/place/Augenklinik+...   \n",
       "1   https://www.google.com/maps/place/Krankenhaus+...   \n",
       "2   https://www.google.com/maps/place/Herzogin+Eli...   \n",
       "3   https://www.google.com/maps/place/Asklepios+Fa...   \n",
       "4   https://www.google.com/maps/place/Asklepios+Fa...   \n",
       "5   https://www.google.com/maps/place/DIAKOVERE+Fr...   \n",
       "6   https://www.google.com/maps/place/DIAKOVERE+An...   \n",
       "7   https://www.google.com/maps/place/DRK-Krankenh...   \n",
       "8   https://www.google.com/maps/place/Sophienklini...   \n",
       "9   https://www.google.com/maps/place/KRH+Klinikum...   \n",
       "10  https://www.google.com/maps/place/KRH+Klinikum...   \n",
       "11  https://www.google.com/maps/place/Krankenhaus+...   \n",
       "12  https://www.google.com/maps/place/Sana+Kliniku...   \n",
       "13  https://www.google.com/maps/place/AMEOS+Klinik...   \n",
       "14  https://www.google.com/maps/place/Helios+Klini...   \n",
       "15  https://www.google.com/maps/place/AGAPLESION+E...   \n",
       "16  https://www.google.com/maps/place/HELIOS+Klini...   \n",
       "17  https://www.google.com/maps/place/OsteMed+Klin...   \n",
       "18  https://www.google.com/maps/place/Klinik+Falli...   \n",
       "19  https://www.google.com/maps/place/Klinikum+Emd...   \n",
       "20  https://www.google.com/maps/place/Krankenhaus+...   \n",
       "21  https://www.google.com/maps/place/Marienkranke...   \n",
       "22  https://www.google.com/maps/place/Kreiskranken...   \n",
       "23  ttps://www.google.com/maps/place/Heidekreis-Kl...   \n",
       "\n",
       "                               Link Klinikbewertungen  \n",
       "0   https://www.klinikbewertungen.de/klinik-forum/...  \n",
       "1   https://www.klinikbewertungen.de/klinik-forum/...  \n",
       "2   https://www.klinikbewertungen.de/klinik-forum/...  \n",
       "3   https://www.klinikbewertungen.de/klinik-forum/...  \n",
       "4   https://www.klinikbewertungen.de/klinik-forum/...  \n",
       "5   https://www.klinikbewertungen.de/klinik-forum/...  \n",
       "6   https://www.klinikbewertungen.de/klinik-forum/...  \n",
       "7   https://www.klinikbewertungen.de/klinik-forum/...  \n",
       "8   https://www.klinikbewertungen.de/klinik-forum/...  \n",
       "9   https://www.klinikbewertungen.de/klinik-forum/...  \n",
       "10  https://www.klinikbewertungen.de/klinik-forum/...  \n",
       "11  https://www.klinikbewertungen.de/klinik-forum/...  \n",
       "12  https://www.klinikbewertungen.de/klinik-forum/...  \n",
       "13  https://www.klinikbewertungen.de/klinik-forum/...  \n",
       "14  https://www.klinikbewertungen.de/klinik-forum/...  \n",
       "15  https://www.klinikbewertungen.de/klinik-forum/...  \n",
       "16  https://www.klinikbewertungen.de/klinik-forum/...  \n",
       "17  https://www.klinikbewertungen.de/klinik-forum/...  \n",
       "18  https://www.klinikbewertungen.de/klinik-forum/...  \n",
       "19  https://www.klinikbewertungen.de/klinik-forum/...  \n",
       "20  https://www.klinikbewertungen.de/klinik-forum/...  \n",
       "21  https://www.klinikbewertungen.de/klinik-forum/...  \n",
       "22  https://www.klinikbewertungen.de/klinik-forum/...  \n",
       "23  https://www.klinikbewertungen.de/klinik-forum/...  "
      ],
      "text/html": "<div>\n<style scoped>\n    .dataframe tbody tr th:only-of-type {\n        vertical-align: middle;\n    }\n\n    .dataframe tbody tr th {\n        vertical-align: top;\n    }\n\n    .dataframe thead th {\n        text-align: right;\n    }\n</style>\n<table border=\"1\" class=\"dataframe\">\n  <thead>\n    <tr style=\"text-align: right;\">\n      <th></th>\n      <th>Klinikname</th>\n      <th>Link Google Maps</th>\n      <th>Link Klinikbewertungen</th>\n    </tr>\n  </thead>\n  <tbody>\n    <tr>\n      <th>0</th>\n      <td>Augenklinik Dr.Hoffmann</td>\n      <td>https://www.google.com/maps/place/Augenklinik+...</td>\n      <td>https://www.klinikbewertungen.de/klinik-forum/...</td>\n    </tr>\n    <tr>\n      <th>1</th>\n      <td>Krankenhaus Marienstift Braunschweig</td>\n      <td>https://www.google.com/maps/place/Krankenhaus+...</td>\n      <td>https://www.klinikbewertungen.de/klinik-forum/...</td>\n    </tr>\n    <tr>\n      <th>2</th>\n      <td>Herzogin Elisabeth Hospital Braunschweig</td>\n      <td>https://www.google.com/maps/place/Herzogin+Eli...</td>\n      <td>https://www.klinikbewertungen.de/klinik-forum/...</td>\n    </tr>\n    <tr>\n      <th>3</th>\n      <td>Asklepios Fachklinikum Göttingen</td>\n      <td>https://www.google.com/maps/place/Asklepios+Fa...</td>\n      <td>https://www.klinikbewertungen.de/klinik-forum/...</td>\n    </tr>\n    <tr>\n      <th>4</th>\n      <td>Asklepios Fachklinikum Tiefenbrunn</td>\n      <td>https://www.google.com/maps/place/Asklepios+Fa...</td>\n      <td>https://www.klinikbewertungen.de/klinik-forum/...</td>\n    </tr>\n    <tr>\n      <th>5</th>\n      <td>Friederikenstift Hannover</td>\n      <td>https://www.google.com/maps/place/DIAKOVERE+Fr...</td>\n      <td>https://www.klinikbewertungen.de/klinik-forum/...</td>\n    </tr>\n    <tr>\n      <th>6</th>\n      <td>Annastift Hannover</td>\n      <td>https://www.google.com/maps/place/DIAKOVERE+An...</td>\n      <td>https://www.klinikbewertungen.de/klinik-forum/...</td>\n    </tr>\n    <tr>\n      <th>7</th>\n      <td>Clementinenhaus</td>\n      <td>https://www.google.com/maps/place/DRK-Krankenh...</td>\n      <td>https://www.klinikbewertungen.de/klinik-forum/...</td>\n    </tr>\n    <tr>\n      <th>8</th>\n      <td>Sophienklinik Hannover</td>\n      <td>https://www.google.com/maps/place/Sophienklini...</td>\n      <td>https://www.klinikbewertungen.de/klinik-forum/...</td>\n    </tr>\n    <tr>\n      <th>9</th>\n      <td>KRH Klinikum Großburgwedel</td>\n      <td>https://www.google.com/maps/place/KRH+Klinikum...</td>\n      <td>https://www.klinikbewertungen.de/klinik-forum/...</td>\n    </tr>\n    <tr>\n      <th>10</th>\n      <td>KRH Klinikum Lehrte</td>\n      <td>https://www.google.com/maps/place/KRH+Klinikum...</td>\n      <td>https://www.klinikbewertungen.de/klinik-forum/...</td>\n    </tr>\n    <tr>\n      <th>11</th>\n      <td>Krankenhaus Lindenbrunn</td>\n      <td>https://www.google.com/maps/place/Krankenhaus+...</td>\n      <td>https://www.klinikbewertungen.de/klinik-forum/...</td>\n    </tr>\n    <tr>\n      <th>12</th>\n      <td>Krankenhaus Hameln</td>\n      <td>https://www.google.com/maps/place/Sana+Kliniku...</td>\n      <td>https://www.klinikbewertungen.de/klinik-forum/...</td>\n    </tr>\n    <tr>\n      <th>13</th>\n      <td>AMEOS Klinikum Alfeld</td>\n      <td>https://www.google.com/maps/place/AMEOS+Klinik...</td>\n      <td>https://www.klinikbewertungen.de/klinik-forum/...</td>\n    </tr>\n    <tr>\n      <th>14</th>\n      <td>Helios Klinikum Hildesheim</td>\n      <td>https://www.google.com/maps/place/Helios+Klini...</td>\n      <td>https://www.klinikbewertungen.de/klinik-forum/...</td>\n    </tr>\n    <tr>\n      <th>15</th>\n      <td>AGAPLESION EV. KLINIKUM SCHAUMBURG</td>\n      <td>https://www.google.com/maps/place/AGAPLESION+E...</td>\n      <td>https://www.klinikbewertungen.de/klinik-forum/...</td>\n    </tr>\n    <tr>\n      <th>16</th>\n      <td>Helios Klinikum Cuxhaven</td>\n      <td>https://www.google.com/maps/place/HELIOS+Klini...</td>\n      <td>https://www.klinikbewertungen.de/klinik-forum/...</td>\n    </tr>\n    <tr>\n      <th>17</th>\n      <td>OsteMed Klinik Bremervörde</td>\n      <td>https://www.google.com/maps/place/OsteMed+Klin...</td>\n      <td>https://www.klinikbewertungen.de/klinik-forum/...</td>\n    </tr>\n    <tr>\n      <th>18</th>\n      <td>Klinik Fallingborstel</td>\n      <td>https://www.google.com/maps/place/Klinik+Falli...</td>\n      <td>https://www.klinikbewertungen.de/klinik-forum/...</td>\n    </tr>\n    <tr>\n      <th>19</th>\n      <td>Klinikum Emden</td>\n      <td>https://www.google.com/maps/place/Klinikum+Emd...</td>\n      <td>https://www.klinikbewertungen.de/klinik-forum/...</td>\n    </tr>\n    <tr>\n      <th>20</th>\n      <td>Krankenhaus Ludmillenstift</td>\n      <td>https://www.google.com/maps/place/Krankenhaus+...</td>\n      <td>https://www.klinikbewertungen.de/klinik-forum/...</td>\n    </tr>\n    <tr>\n      <th>21</th>\n      <td>Marienhospital Papenburg</td>\n      <td>https://www.google.com/maps/place/Marienkranke...</td>\n      <td>https://www.klinikbewertungen.de/klinik-forum/...</td>\n    </tr>\n    <tr>\n      <th>22</th>\n      <td>Kreiskrankenhaus Osterholz</td>\n      <td>https://www.google.com/maps/place/Kreiskranken...</td>\n      <td>https://www.klinikbewertungen.de/klinik-forum/...</td>\n    </tr>\n    <tr>\n      <th>23</th>\n      <td>Krankenhaus Soltau</td>\n      <td>ttps://www.google.com/maps/place/Heidekreis-Kl...</td>\n      <td>https://www.klinikbewertungen.de/klinik-forum/...</td>\n    </tr>\n  </tbody>\n</table>\n</div>"
     },
     "metadata": {},
     "execution_count": 60
    }
   ],
   "source": [
    "myExcelFrame"
   ]
  },
  {
   "cell_type": "markdown",
   "metadata": {},
   "source": [
    "wie kann man nur ein Säule/Column heraushellen\n",
    "* es wird nur den Säule name benötigt. DataFrame an der Stelle Name von Säule"
   ]
  },
  {
   "cell_type": "code",
   "execution_count": 61,
   "metadata": {},
   "outputs": [
    {
     "output_type": "execute_result",
     "data": {
      "text/plain": [
       "0                      Augenklinik Dr.Hoffmann\n",
       "1         Krankenhaus Marienstift Braunschweig\n",
       "2     Herzogin Elisabeth Hospital Braunschweig\n",
       "3             Asklepios Fachklinikum Göttingen\n",
       "4           Asklepios Fachklinikum Tiefenbrunn\n",
       "5                    Friederikenstift Hannover\n",
       "6                           Annastift Hannover\n",
       "7                              Clementinenhaus\n",
       "8                       Sophienklinik Hannover\n",
       "9                   KRH Klinikum Großburgwedel\n",
       "10                         KRH Klinikum Lehrte\n",
       "11                     Krankenhaus Lindenbrunn\n",
       "12                          Krankenhaus Hameln\n",
       "13                       AMEOS Klinikum Alfeld\n",
       "14                  Helios Klinikum Hildesheim\n",
       "15          AGAPLESION EV. KLINIKUM SCHAUMBURG\n",
       "16                    Helios Klinikum Cuxhaven\n",
       "17                  OsteMed Klinik Bremervörde\n",
       "18                       Klinik Fallingborstel\n",
       "19                              Klinikum Emden\n",
       "20                  Krankenhaus Ludmillenstift\n",
       "21                    Marienhospital Papenburg\n",
       "22                  Kreiskrankenhaus Osterholz\n",
       "23                          Krankenhaus Soltau\n",
       "Name: Klinikname, dtype: object"
      ]
     },
     "metadata": {},
     "execution_count": 61
    }
   ],
   "source": [
    "myExcelFrame['Klinikname']"
   ]
  },
  {
   "cell_type": "markdown",
   "metadata": {},
   "source": [
    "---------"
   ]
  },
  {
   "cell_type": "markdown",
   "metadata": {},
   "source": [
    "* es ist schön, wenn man nur eine Zeile von der gleichen Säule sehen kann."
   ]
  },
  {
   "cell_type": "code",
   "execution_count": 62,
   "metadata": {},
   "outputs": [
    {
     "output_type": "execute_result",
     "data": {
      "text/plain": [
       "'Augenklinik Dr.Hoffmann'"
      ]
     },
     "metadata": {},
     "execution_count": 62
    }
   ],
   "source": [
    "myExcelFrame['Klinikname'][0]"
   ]
  },
  {
   "cell_type": "markdown",
   "metadata": {},
   "source": [
    "***\n",
    "Achte bitte auf dieses Beispiel: erster Google Map Link Herausholen"
   ]
  },
  {
   "cell_type": "code",
   "execution_count": 63,
   "metadata": {},
   "outputs": [
    {
     "output_type": "execute_result",
     "data": {
      "text/plain": [
       "'https://www.google.com/maps/place/Augenklinik+Dr.+Hoffmann/@52.2555789,10.5275976,15z/data=!4m2!3m1!1s0x0:0xe66ee9e189648187?sa=X&ved=2ahUKEwiUrOzD5_DuAhVLDOwKHUVOACkQ_BIwDHoECBgQBQ'"
      ]
     },
     "metadata": {},
     "execution_count": 63
    }
   ],
   "source": [
    "myExcelFrame['Link Google Maps'][0]"
   ]
  },
  {
   "cell_type": "markdown",
   "metadata": {},
   "source": [
    "***\n",
    "Achte bitte auf dieses Beispiel: erster WEB-Link Herausholen"
   ]
  },
  {
   "cell_type": "code",
   "execution_count": 64,
   "metadata": {},
   "outputs": [
    {
     "output_type": "execute_result",
     "data": {
      "text/plain": [
       "'https://www.klinikbewertungen.de/klinik-forum/erfahrung-mit-augenklinik-dr-hoffmann-braunschweig'"
      ]
     },
     "metadata": {},
     "execution_count": 64
    }
   ],
   "source": [
    "myExcelFrame['Link Klinikbewertungen'][0]"
   ]
  },
  {
   "cell_type": "markdown",
   "metadata": {},
   "source": [
    "****\n",
    "# Now Can We Use requests"
   ]
  },
  {
   "cell_type": "code",
   "execution_count": 65,
   "metadata": {},
   "outputs": [],
   "source": [
    "#Sample Code to Use Request"
   ]
  },
  {
   "cell_type": "markdown",
   "metadata": {},
   "source": [
    "* import REQUESTS"
   ]
  },
  {
   "cell_type": "code",
   "execution_count": 66,
   "metadata": {},
   "outputs": [],
   "source": [
    "import requests\n"
   ]
  },
  {
   "cell_type": "code",
   "execution_count": 67,
   "metadata": {},
   "outputs": [],
   "source": [
    "link0 = myExcelFrame['Link Klinikbewertungen'][0]"
   ]
  },
  {
   "cell_type": "raw",
   "metadata": {},
   "source": []
  },
  {
   "cell_type": "code",
   "execution_count": 68,
   "metadata": {},
   "outputs": [],
   "source": [
    "klinikNameList=[]\n",
    "googleUrlList=[]\n",
    "klinikUrlList=[]\n",
    "for index, row in myExcelFrame.iterrows():\n",
    "    klinikNameList.append(row['Klinikname'])\n",
    "    googleUrlList.append(row['Link Google Maps'])\n",
    "    klinikUrlList.append(row['Link Klinikbewertungen']+'/bewertungen?allbew#more')"
   ]
  },
  {
   "cell_type": "code",
   "execution_count": 69,
   "metadata": {},
   "outputs": [
    {
     "output_type": "error",
     "ename": "WebDriverException",
     "evalue": "Message: 'chromedriver' executable needs to be in PATH. Please see https://sites.google.com/a/chromium.org/chromedriver/home\n",
     "traceback": [
      "\u001b[0;31m---------------------------------------------------------------------------\u001b[0m",
      "\u001b[0;31mFileNotFoundError\u001b[0m                         Traceback (most recent call last)",
      "\u001b[0;32m~/opt/anaconda3/lib/python3.8/site-packages/selenium/webdriver/common/service.py\u001b[0m in \u001b[0;36mstart\u001b[0;34m(self)\u001b[0m\n\u001b[1;32m     71\u001b[0m             \u001b[0mcmd\u001b[0m\u001b[0;34m.\u001b[0m\u001b[0mextend\u001b[0m\u001b[0;34m(\u001b[0m\u001b[0mself\u001b[0m\u001b[0;34m.\u001b[0m\u001b[0mcommand_line_args\u001b[0m\u001b[0;34m(\u001b[0m\u001b[0;34m)\u001b[0m\u001b[0;34m)\u001b[0m\u001b[0;34m\u001b[0m\u001b[0;34m\u001b[0m\u001b[0m\n\u001b[0;32m---> 72\u001b[0;31m             self.process = subprocess.Popen(cmd, env=self.env,\n\u001b[0m\u001b[1;32m     73\u001b[0m                                             \u001b[0mclose_fds\u001b[0m\u001b[0;34m=\u001b[0m\u001b[0mplatform\u001b[0m\u001b[0;34m.\u001b[0m\u001b[0msystem\u001b[0m\u001b[0;34m(\u001b[0m\u001b[0;34m)\u001b[0m \u001b[0;34m!=\u001b[0m \u001b[0;34m'Windows'\u001b[0m\u001b[0;34m,\u001b[0m\u001b[0;34m\u001b[0m\u001b[0;34m\u001b[0m\u001b[0m\n",
      "\u001b[0;32m~/opt/anaconda3/lib/python3.8/subprocess.py\u001b[0m in \u001b[0;36m__init__\u001b[0;34m(self, args, bufsize, executable, stdin, stdout, stderr, preexec_fn, close_fds, shell, cwd, env, universal_newlines, startupinfo, creationflags, restore_signals, start_new_session, pass_fds, encoding, errors, text)\u001b[0m\n\u001b[1;32m    853\u001b[0m \u001b[0;34m\u001b[0m\u001b[0m\n\u001b[0;32m--> 854\u001b[0;31m             self._execute_child(args, executable, preexec_fn, close_fds,\n\u001b[0m\u001b[1;32m    855\u001b[0m                                 \u001b[0mpass_fds\u001b[0m\u001b[0;34m,\u001b[0m \u001b[0mcwd\u001b[0m\u001b[0;34m,\u001b[0m \u001b[0menv\u001b[0m\u001b[0;34m,\u001b[0m\u001b[0;34m\u001b[0m\u001b[0;34m\u001b[0m\u001b[0m\n",
      "\u001b[0;32m~/opt/anaconda3/lib/python3.8/subprocess.py\u001b[0m in \u001b[0;36m_execute_child\u001b[0;34m(self, args, executable, preexec_fn, close_fds, pass_fds, cwd, env, startupinfo, creationflags, shell, p2cread, p2cwrite, c2pread, c2pwrite, errread, errwrite, restore_signals, start_new_session)\u001b[0m\n\u001b[1;32m   1701\u001b[0m                         \u001b[0merr_msg\u001b[0m \u001b[0;34m=\u001b[0m \u001b[0mos\u001b[0m\u001b[0;34m.\u001b[0m\u001b[0mstrerror\u001b[0m\u001b[0;34m(\u001b[0m\u001b[0merrno_num\u001b[0m\u001b[0;34m)\u001b[0m\u001b[0;34m\u001b[0m\u001b[0;34m\u001b[0m\u001b[0m\n\u001b[0;32m-> 1702\u001b[0;31m                     \u001b[0;32mraise\u001b[0m \u001b[0mchild_exception_type\u001b[0m\u001b[0;34m(\u001b[0m\u001b[0merrno_num\u001b[0m\u001b[0;34m,\u001b[0m \u001b[0merr_msg\u001b[0m\u001b[0;34m,\u001b[0m \u001b[0merr_filename\u001b[0m\u001b[0;34m)\u001b[0m\u001b[0;34m\u001b[0m\u001b[0;34m\u001b[0m\u001b[0m\n\u001b[0m\u001b[1;32m   1703\u001b[0m                 \u001b[0;32mraise\u001b[0m \u001b[0mchild_exception_type\u001b[0m\u001b[0;34m(\u001b[0m\u001b[0merr_msg\u001b[0m\u001b[0;34m)\u001b[0m\u001b[0;34m\u001b[0m\u001b[0;34m\u001b[0m\u001b[0m\n",
      "\u001b[0;31mFileNotFoundError\u001b[0m: [Errno 2] No such file or directory: 'chromedriver'",
      "\nDuring handling of the above exception, another exception occurred:\n",
      "\u001b[0;31mWebDriverException\u001b[0m                        Traceback (most recent call last)",
      "\u001b[0;32m<ipython-input-69-e659a5f1b467>\u001b[0m in \u001b[0;36m<module>\u001b[0;34m\u001b[0m\n\u001b[1;32m      1\u001b[0m \u001b[0;32mfrom\u001b[0m \u001b[0mselenium\u001b[0m\u001b[0;34m.\u001b[0m\u001b[0mwebdriver\u001b[0m \u001b[0;32mimport\u001b[0m \u001b[0mChrome\u001b[0m\u001b[0;34m\u001b[0m\u001b[0;34m\u001b[0m\u001b[0m\n\u001b[0;32m----> 2\u001b[0;31m \u001b[0mdriver\u001b[0m \u001b[0;34m=\u001b[0m \u001b[0mChrome\u001b[0m\u001b[0;34m(\u001b[0m\u001b[0;34m)\u001b[0m\u001b[0;34m\u001b[0m\u001b[0;34m\u001b[0m\u001b[0m\n\u001b[0m",
      "\u001b[0;32m~/opt/anaconda3/lib/python3.8/site-packages/selenium/webdriver/chrome/webdriver.py\u001b[0m in \u001b[0;36m__init__\u001b[0;34m(self, executable_path, port, options, service_args, desired_capabilities, service_log_path, chrome_options, keep_alive)\u001b[0m\n\u001b[1;32m     71\u001b[0m             \u001b[0mservice_args\u001b[0m\u001b[0;34m=\u001b[0m\u001b[0mservice_args\u001b[0m\u001b[0;34m,\u001b[0m\u001b[0;34m\u001b[0m\u001b[0;34m\u001b[0m\u001b[0m\n\u001b[1;32m     72\u001b[0m             log_path=service_log_path)\n\u001b[0;32m---> 73\u001b[0;31m         \u001b[0mself\u001b[0m\u001b[0;34m.\u001b[0m\u001b[0mservice\u001b[0m\u001b[0;34m.\u001b[0m\u001b[0mstart\u001b[0m\u001b[0;34m(\u001b[0m\u001b[0;34m)\u001b[0m\u001b[0;34m\u001b[0m\u001b[0;34m\u001b[0m\u001b[0m\n\u001b[0m\u001b[1;32m     74\u001b[0m \u001b[0;34m\u001b[0m\u001b[0m\n\u001b[1;32m     75\u001b[0m         \u001b[0;32mtry\u001b[0m\u001b[0;34m:\u001b[0m\u001b[0;34m\u001b[0m\u001b[0;34m\u001b[0m\u001b[0m\n",
      "\u001b[0;32m~/opt/anaconda3/lib/python3.8/site-packages/selenium/webdriver/common/service.py\u001b[0m in \u001b[0;36mstart\u001b[0;34m(self)\u001b[0m\n\u001b[1;32m     79\u001b[0m         \u001b[0;32mexcept\u001b[0m \u001b[0mOSError\u001b[0m \u001b[0;32mas\u001b[0m \u001b[0merr\u001b[0m\u001b[0;34m:\u001b[0m\u001b[0;34m\u001b[0m\u001b[0;34m\u001b[0m\u001b[0m\n\u001b[1;32m     80\u001b[0m             \u001b[0;32mif\u001b[0m \u001b[0merr\u001b[0m\u001b[0;34m.\u001b[0m\u001b[0merrno\u001b[0m \u001b[0;34m==\u001b[0m \u001b[0merrno\u001b[0m\u001b[0;34m.\u001b[0m\u001b[0mENOENT\u001b[0m\u001b[0;34m:\u001b[0m\u001b[0;34m\u001b[0m\u001b[0;34m\u001b[0m\u001b[0m\n\u001b[0;32m---> 81\u001b[0;31m                 raise WebDriverException(\n\u001b[0m\u001b[1;32m     82\u001b[0m                     \"'%s' executable needs to be in PATH. %s\" % (\n\u001b[1;32m     83\u001b[0m                         os.path.basename(self.path), self.start_error_message)\n",
      "\u001b[0;31mWebDriverException\u001b[0m: Message: 'chromedriver' executable needs to be in PATH. Please see https://sites.google.com/a/chromium.org/chromedriver/home\n"
     ]
    }
   ],
   "source": []
  },
  {
   "cell_type": "code",
   "execution_count": null,
   "metadata": {},
   "outputs": [],
   "source": []
  }
 ],
 "metadata": {
  "kernelspec": {
   "display_name": "Python 3",
   "language": "python",
   "name": "python3"
  },
  "language_info": {
   "codemirror_mode": {
    "name": "ipython",
    "version": 3
   },
   "file_extension": ".py",
   "mimetype": "text/x-python",
   "name": "python",
   "nbconvert_exporter": "python",
   "pygments_lexer": "ipython3",
   "version": "3.8.5"
  }
 },
 "nbformat": 4,
 "nbformat_minor": 4
}