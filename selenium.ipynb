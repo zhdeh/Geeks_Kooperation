{
 "cells": [
  {
   "cell_type": "markdown",
   "metadata": {},
   "source": [
    "# Herzlich willkommen in scraping Projekt\n",
    "    ich have vor,\n",
    "         Beautifulsoup , Selenium und Scrapy Bibliotheken zu benutzen."
   ]
  },
  {
   "cell_type": "markdown",
   "metadata": {},
   "source": [
    "*********************************\n",
    "erster Schrit: Importieren benötigte Bibliotheken"
   ]
  },
  {
   "cell_type": "code",
   "execution_count": 206,
   "metadata": {},
   "outputs": [],
   "source": [
    "import pandas as pd\n",
    "import json"
   ]
  },
  {
   "cell_type": "markdown",
   "metadata": {},
   "source": [
    "Pandas – Python Data Analysis Library – ist eine Bibliothek für Python. Sie erfordert NumPy und lässt sich für die Verwaltung und Analyse von Daten einsetzen\n",
    "\n",
    "JSON bietet einen einfachen Standard für die strukturierte Kodierung von Daten in Form von menschenlesbarem Text"
   ]
  },
  {
   "cell_type": "markdown",
   "metadata": {},
   "source": [
    " Die Bibliotheken wurden importiert.\n",
    "# Zeit zu mit Daten zu arbeiten"
   ]
  },
  {
   "cell_type": "code",
   "execution_count": 237,
   "metadata": {},
   "outputs": [],
   "source": []
  },
  {
   "cell_type": "markdown",
   "metadata": {},
   "source": [
    "man muss Die Execel Datei öffnen, dafür wird Funktion read_excel benutzt.\n",
    "* es wird In einer Variabele auf den Namen myExcelFrame abgespeichert."
   ]
  },
  {
   "cell_type": "code",
   "execution_count": 207,
   "metadata": {},
   "outputs": [],
   "source": [
    "myExcelFrame = pd.read_excel ('http://4it4.com/Klinikliste.xlsx' )"
   ]
  },
  {
   "cell_type": "markdown",
   "metadata": {},
   "source": [
    "wie man Columns sehen. mit Hilfe von dem Wort columns"
   ]
  },
  {
   "cell_type": "code",
   "execution_count": 208,
   "metadata": {},
   "outputs": [
    {
     "output_type": "execute_result",
     "data": {
      "text/plain": [
       "Index(['Klinikname', 'Link Google Maps', 'Link Klinikbewertungen'], dtype='object')"
      ]
     },
     "metadata": {},
     "execution_count": 208
    }
   ],
   "source": [
    "myExcelFrame.columns"
   ]
  },
  {
   "cell_type": "markdown",
   "metadata": {},
   "source": [
    "* was ich noch brauche, ist Range of meine Dataframe Index"
   ]
  },
  {
   "cell_type": "code",
   "execution_count": 209,
   "metadata": {},
   "outputs": [
    {
     "output_type": "execute_result",
     "data": {
      "text/plain": [
       "RangeIndex(start=0, stop=24, step=1)"
      ]
     },
     "metadata": {},
     "execution_count": 209
    }
   ],
   "source": [
    "myExcelFrame.index"
   ]
  },
  {
   "cell_type": "markdown",
   "metadata": {},
   "source": [
    "dürfen wir jetzt ganze Tabele sehen. das ist Quele Tabele "
   ]
  },
  {
   "cell_type": "code",
   "execution_count": 210,
   "metadata": {},
   "outputs": [
    {
     "output_type": "execute_result",
     "data": {
      "text/plain": [
       "                                  Klinikname  \\\n",
       "0                    Augenklinik Dr.Hoffmann   \n",
       "1       Krankenhaus Marienstift Braunschweig   \n",
       "2   Herzogin Elisabeth Hospital Braunschweig   \n",
       "3           Asklepios Fachklinikum Göttingen   \n",
       "4         Asklepios Fachklinikum Tiefenbrunn   \n",
       "5                  Friederikenstift Hannover   \n",
       "6                         Annastift Hannover   \n",
       "7                            Clementinenhaus   \n",
       "8                     Sophienklinik Hannover   \n",
       "9                 KRH Klinikum Großburgwedel   \n",
       "10                       KRH Klinikum Lehrte   \n",
       "11                   Krankenhaus Lindenbrunn   \n",
       "12                        Krankenhaus Hameln   \n",
       "13                     AMEOS Klinikum Alfeld   \n",
       "14                Helios Klinikum Hildesheim   \n",
       "15        AGAPLESION EV. KLINIKUM SCHAUMBURG   \n",
       "16                  Helios Klinikum Cuxhaven   \n",
       "17                OsteMed Klinik Bremervörde   \n",
       "18                     Klinik Fallingborstel   \n",
       "19                            Klinikum Emden   \n",
       "20                Krankenhaus Ludmillenstift   \n",
       "21                  Marienhospital Papenburg   \n",
       "22                Kreiskrankenhaus Osterholz   \n",
       "23                        Krankenhaus Soltau   \n",
       "\n",
       "                                     Link Google Maps  \\\n",
       "0   https://www.google.com/maps/place/Augenklinik+...   \n",
       "1   https://www.google.com/maps/place/Krankenhaus+...   \n",
       "2   https://www.google.com/maps/place/Herzogin+Eli...   \n",
       "3   https://www.google.com/maps/place/Asklepios+Fa...   \n",
       "4   https://www.google.com/maps/place/Asklepios+Fa...   \n",
       "5   https://www.google.com/maps/place/DIAKOVERE+Fr...   \n",
       "6   https://www.google.com/maps/place/DIAKOVERE+An...   \n",
       "7   https://www.google.com/maps/place/DRK-Krankenh...   \n",
       "8   https://www.google.com/maps/place/Sophienklini...   \n",
       "9   https://www.google.com/maps/place/KRH+Klinikum...   \n",
       "10  https://www.google.com/maps/place/KRH+Klinikum...   \n",
       "11  https://www.google.com/maps/place/Krankenhaus+...   \n",
       "12  https://www.google.com/maps/place/Sana+Kliniku...   \n",
       "13  https://www.google.com/maps/place/AMEOS+Klinik...   \n",
       "14  https://www.google.com/maps/place/Helios+Klini...   \n",
       "15  https://www.google.com/maps/place/AGAPLESION+E...   \n",
       "16  https://www.google.com/maps/place/HELIOS+Klini...   \n",
       "17  https://www.google.com/maps/place/OsteMed+Klin...   \n",
       "18  https://www.google.com/maps/place/Klinik+Falli...   \n",
       "19  https://www.google.com/maps/place/Klinikum+Emd...   \n",
       "20  https://www.google.com/maps/place/Krankenhaus+...   \n",
       "21  https://www.google.com/maps/place/Marienkranke...   \n",
       "22  https://www.google.com/maps/place/Kreiskranken...   \n",
       "23  ttps://www.google.com/maps/place/Heidekreis-Kl...   \n",
       "\n",
       "                               Link Klinikbewertungen  \n",
       "0   https://www.klinikbewertungen.de/klinik-forum/...  \n",
       "1   https://www.klinikbewertungen.de/klinik-forum/...  \n",
       "2   https://www.klinikbewertungen.de/klinik-forum/...  \n",
       "3   https://www.klinikbewertungen.de/klinik-forum/...  \n",
       "4   https://www.klinikbewertungen.de/klinik-forum/...  \n",
       "5   https://www.klinikbewertungen.de/klinik-forum/...  \n",
       "6   https://www.klinikbewertungen.de/klinik-forum/...  \n",
       "7   https://www.klinikbewertungen.de/klinik-forum/...  \n",
       "8   https://www.klinikbewertungen.de/klinik-forum/...  \n",
       "9   https://www.klinikbewertungen.de/klinik-forum/...  \n",
       "10  https://www.klinikbewertungen.de/klinik-forum/...  \n",
       "11  https://www.klinikbewertungen.de/klinik-forum/...  \n",
       "12  https://www.klinikbewertungen.de/klinik-forum/...  \n",
       "13  https://www.klinikbewertungen.de/klinik-forum/...  \n",
       "14  https://www.klinikbewertungen.de/klinik-forum/...  \n",
       "15  https://www.klinikbewertungen.de/klinik-forum/...  \n",
       "16  https://www.klinikbewertungen.de/klinik-forum/...  \n",
       "17  https://www.klinikbewertungen.de/klinik-forum/...  \n",
       "18  https://www.klinikbewertungen.de/klinik-forum/...  \n",
       "19  https://www.klinikbewertungen.de/klinik-forum/...  \n",
       "20  https://www.klinikbewertungen.de/klinik-forum/...  \n",
       "21  https://www.klinikbewertungen.de/klinik-forum/...  \n",
       "22  https://www.klinikbewertungen.de/klinik-forum/...  \n",
       "23  https://www.klinikbewertungen.de/klinik-forum/...  "
      ],
      "text/html": "<div>\n<style scoped>\n    .dataframe tbody tr th:only-of-type {\n        vertical-align: middle;\n    }\n\n    .dataframe tbody tr th {\n        vertical-align: top;\n    }\n\n    .dataframe thead th {\n        text-align: right;\n    }\n</style>\n<table border=\"1\" class=\"dataframe\">\n  <thead>\n    <tr style=\"text-align: right;\">\n      <th></th>\n      <th>Klinikname</th>\n      <th>Link Google Maps</th>\n      <th>Link Klinikbewertungen</th>\n    </tr>\n  </thead>\n  <tbody>\n    <tr>\n      <th>0</th>\n      <td>Augenklinik Dr.Hoffmann</td>\n      <td>https://www.google.com/maps/place/Augenklinik+...</td>\n      <td>https://www.klinikbewertungen.de/klinik-forum/...</td>\n    </tr>\n    <tr>\n      <th>1</th>\n      <td>Krankenhaus Marienstift Braunschweig</td>\n      <td>https://www.google.com/maps/place/Krankenhaus+...</td>\n      <td>https://www.klinikbewertungen.de/klinik-forum/...</td>\n    </tr>\n    <tr>\n      <th>2</th>\n      <td>Herzogin Elisabeth Hospital Braunschweig</td>\n      <td>https://www.google.com/maps/place/Herzogin+Eli...</td>\n      <td>https://www.klinikbewertungen.de/klinik-forum/...</td>\n    </tr>\n    <tr>\n      <th>3</th>\n      <td>Asklepios Fachklinikum Göttingen</td>\n      <td>https://www.google.com/maps/place/Asklepios+Fa...</td>\n      <td>https://www.klinikbewertungen.de/klinik-forum/...</td>\n    </tr>\n    <tr>\n      <th>4</th>\n      <td>Asklepios Fachklinikum Tiefenbrunn</td>\n      <td>https://www.google.com/maps/place/Asklepios+Fa...</td>\n      <td>https://www.klinikbewertungen.de/klinik-forum/...</td>\n    </tr>\n    <tr>\n      <th>5</th>\n      <td>Friederikenstift Hannover</td>\n      <td>https://www.google.com/maps/place/DIAKOVERE+Fr...</td>\n      <td>https://www.klinikbewertungen.de/klinik-forum/...</td>\n    </tr>\n    <tr>\n      <th>6</th>\n      <td>Annastift Hannover</td>\n      <td>https://www.google.com/maps/place/DIAKOVERE+An...</td>\n      <td>https://www.klinikbewertungen.de/klinik-forum/...</td>\n    </tr>\n    <tr>\n      <th>7</th>\n      <td>Clementinenhaus</td>\n      <td>https://www.google.com/maps/place/DRK-Krankenh...</td>\n      <td>https://www.klinikbewertungen.de/klinik-forum/...</td>\n    </tr>\n    <tr>\n      <th>8</th>\n      <td>Sophienklinik Hannover</td>\n      <td>https://www.google.com/maps/place/Sophienklini...</td>\n      <td>https://www.klinikbewertungen.de/klinik-forum/...</td>\n    </tr>\n    <tr>\n      <th>9</th>\n      <td>KRH Klinikum Großburgwedel</td>\n      <td>https://www.google.com/maps/place/KRH+Klinikum...</td>\n      <td>https://www.klinikbewertungen.de/klinik-forum/...</td>\n    </tr>\n    <tr>\n      <th>10</th>\n      <td>KRH Klinikum Lehrte</td>\n      <td>https://www.google.com/maps/place/KRH+Klinikum...</td>\n      <td>https://www.klinikbewertungen.de/klinik-forum/...</td>\n    </tr>\n    <tr>\n      <th>11</th>\n      <td>Krankenhaus Lindenbrunn</td>\n      <td>https://www.google.com/maps/place/Krankenhaus+...</td>\n      <td>https://www.klinikbewertungen.de/klinik-forum/...</td>\n    </tr>\n    <tr>\n      <th>12</th>\n      <td>Krankenhaus Hameln</td>\n      <td>https://www.google.com/maps/place/Sana+Kliniku...</td>\n      <td>https://www.klinikbewertungen.de/klinik-forum/...</td>\n    </tr>\n    <tr>\n      <th>13</th>\n      <td>AMEOS Klinikum Alfeld</td>\n      <td>https://www.google.com/maps/place/AMEOS+Klinik...</td>\n      <td>https://www.klinikbewertungen.de/klinik-forum/...</td>\n    </tr>\n    <tr>\n      <th>14</th>\n      <td>Helios Klinikum Hildesheim</td>\n      <td>https://www.google.com/maps/place/Helios+Klini...</td>\n      <td>https://www.klinikbewertungen.de/klinik-forum/...</td>\n    </tr>\n    <tr>\n      <th>15</th>\n      <td>AGAPLESION EV. KLINIKUM SCHAUMBURG</td>\n      <td>https://www.google.com/maps/place/AGAPLESION+E...</td>\n      <td>https://www.klinikbewertungen.de/klinik-forum/...</td>\n    </tr>\n    <tr>\n      <th>16</th>\n      <td>Helios Klinikum Cuxhaven</td>\n      <td>https://www.google.com/maps/place/HELIOS+Klini...</td>\n      <td>https://www.klinikbewertungen.de/klinik-forum/...</td>\n    </tr>\n    <tr>\n      <th>17</th>\n      <td>OsteMed Klinik Bremervörde</td>\n      <td>https://www.google.com/maps/place/OsteMed+Klin...</td>\n      <td>https://www.klinikbewertungen.de/klinik-forum/...</td>\n    </tr>\n    <tr>\n      <th>18</th>\n      <td>Klinik Fallingborstel</td>\n      <td>https://www.google.com/maps/place/Klinik+Falli...</td>\n      <td>https://www.klinikbewertungen.de/klinik-forum/...</td>\n    </tr>\n    <tr>\n      <th>19</th>\n      <td>Klinikum Emden</td>\n      <td>https://www.google.com/maps/place/Klinikum+Emd...</td>\n      <td>https://www.klinikbewertungen.de/klinik-forum/...</td>\n    </tr>\n    <tr>\n      <th>20</th>\n      <td>Krankenhaus Ludmillenstift</td>\n      <td>https://www.google.com/maps/place/Krankenhaus+...</td>\n      <td>https://www.klinikbewertungen.de/klinik-forum/...</td>\n    </tr>\n    <tr>\n      <th>21</th>\n      <td>Marienhospital Papenburg</td>\n      <td>https://www.google.com/maps/place/Marienkranke...</td>\n      <td>https://www.klinikbewertungen.de/klinik-forum/...</td>\n    </tr>\n    <tr>\n      <th>22</th>\n      <td>Kreiskrankenhaus Osterholz</td>\n      <td>https://www.google.com/maps/place/Kreiskranken...</td>\n      <td>https://www.klinikbewertungen.de/klinik-forum/...</td>\n    </tr>\n    <tr>\n      <th>23</th>\n      <td>Krankenhaus Soltau</td>\n      <td>ttps://www.google.com/maps/place/Heidekreis-Kl...</td>\n      <td>https://www.klinikbewertungen.de/klinik-forum/...</td>\n    </tr>\n  </tbody>\n</table>\n</div>"
     },
     "metadata": {},
     "execution_count": 210
    }
   ],
   "source": [
    "myExcelFrame"
   ]
  },
  {
   "cell_type": "markdown",
   "metadata": {},
   "source": [
    "wie kann man nur ein Säule/Column heraushellen\n",
    "* es wird nur den Säule name benötigt. DataFrame an der Stelle Name von Säule"
   ]
  },
  {
   "cell_type": "code",
   "execution_count": 211,
   "metadata": {},
   "outputs": [
    {
     "output_type": "execute_result",
     "data": {
      "text/plain": [
       "0                      Augenklinik Dr.Hoffmann\n",
       "1         Krankenhaus Marienstift Braunschweig\n",
       "2     Herzogin Elisabeth Hospital Braunschweig\n",
       "3             Asklepios Fachklinikum Göttingen\n",
       "4           Asklepios Fachklinikum Tiefenbrunn\n",
       "5                    Friederikenstift Hannover\n",
       "6                           Annastift Hannover\n",
       "7                              Clementinenhaus\n",
       "8                       Sophienklinik Hannover\n",
       "9                   KRH Klinikum Großburgwedel\n",
       "10                         KRH Klinikum Lehrte\n",
       "11                     Krankenhaus Lindenbrunn\n",
       "12                          Krankenhaus Hameln\n",
       "13                       AMEOS Klinikum Alfeld\n",
       "14                  Helios Klinikum Hildesheim\n",
       "15          AGAPLESION EV. KLINIKUM SCHAUMBURG\n",
       "16                    Helios Klinikum Cuxhaven\n",
       "17                  OsteMed Klinik Bremervörde\n",
       "18                       Klinik Fallingborstel\n",
       "19                              Klinikum Emden\n",
       "20                  Krankenhaus Ludmillenstift\n",
       "21                    Marienhospital Papenburg\n",
       "22                  Kreiskrankenhaus Osterholz\n",
       "23                          Krankenhaus Soltau\n",
       "Name: Klinikname, dtype: object"
      ]
     },
     "metadata": {},
     "execution_count": 211
    }
   ],
   "source": [
    "myExcelFrame['Klinikname']"
   ]
  },
  {
   "cell_type": "markdown",
   "metadata": {},
   "source": [
    "---------"
   ]
  },
  {
   "cell_type": "markdown",
   "metadata": {},
   "source": [
    "* es ist schön, wenn man nur eine Zeile von der gleichen Säule sehen kann."
   ]
  },
  {
   "cell_type": "code",
   "execution_count": 212,
   "metadata": {},
   "outputs": [
    {
     "output_type": "execute_result",
     "data": {
      "text/plain": [
       "'Augenklinik Dr.Hoffmann'"
      ]
     },
     "metadata": {},
     "execution_count": 212
    }
   ],
   "source": [
    "myExcelFrame['Klinikname'][0]"
   ]
  },
  {
   "cell_type": "markdown",
   "metadata": {},
   "source": [
    "***\n",
    "Achte bitte auf dieses Beispiel: erster Google Map Link Herausholen"
   ]
  },
  {
   "cell_type": "code",
   "execution_count": 213,
   "metadata": {},
   "outputs": [
    {
     "output_type": "execute_result",
     "data": {
      "text/plain": [
       "'https://www.google.com/maps/place/Augenklinik+Dr.+Hoffmann/@52.2555789,10.5275976,15z/data=!4m2!3m1!1s0x0:0xe66ee9e189648187?sa=X&ved=2ahUKEwiUrOzD5_DuAhVLDOwKHUVOACkQ_BIwDHoECBgQBQ'"
      ]
     },
     "metadata": {},
     "execution_count": 213
    }
   ],
   "source": [
    "myExcelFrame['Link Google Maps'][0]"
   ]
  },
  {
   "cell_type": "markdown",
   "metadata": {},
   "source": [
    "***\n",
    "Achte bitte auf dieses Beispiel: erster WEB-Link Herausholen"
   ]
  },
  {
   "cell_type": "code",
   "execution_count": 214,
   "metadata": {},
   "outputs": [
    {
     "output_type": "execute_result",
     "data": {
      "text/plain": [
       "'https://www.klinikbewertungen.de/klinik-forum/erfahrung-mit-augenklinik-dr-hoffmann-braunschweig'"
      ]
     },
     "metadata": {},
     "execution_count": 214
    }
   ],
   "source": [
    "myExcelFrame['Link Klinikbewertungen'][0]"
   ]
  },
  {
   "cell_type": "markdown",
   "metadata": {},
   "source": [
    "****\n",
    "# Now Can We Use requests"
   ]
  },
  {
   "cell_type": "code",
   "execution_count": 215,
   "metadata": {},
   "outputs": [],
   "source": [
    "#Sample Code to Use Request"
   ]
  },
  {
   "cell_type": "markdown",
   "metadata": {},
   "source": [
    "* import REQUESTS"
   ]
  },
  {
   "cell_type": "code",
   "execution_count": 216,
   "metadata": {},
   "outputs": [],
   "source": [
    "import requests\n"
   ]
  },
  {
   "cell_type": "code",
   "execution_count": 217,
   "metadata": {},
   "outputs": [],
   "source": [
    "link0 = myExcelFrame['Link Klinikbewertungen'][0]"
   ]
  },
  {
   "cell_type": "raw",
   "metadata": {},
   "source": []
  },
  {
   "cell_type": "code",
   "execution_count": 218,
   "metadata": {},
   "outputs": [],
   "source": [
    "klinikNameList=[]\n",
    "googleUrlList=[]\n",
    "klinikUrlList=[]\n",
    "for index, row in myExcelFrame.iterrows():\n",
    "    klinikNameList.append(row['Klinikname'])\n",
    "    googleUrlList.append(row['Link Google Maps'])\n",
    "    klinikUrlList.append(row['Link Klinikbewertungen']+'/bewertungen?allbew#more')"
   ]
  },
  {
   "source": [
    "pip install selenium\n"
   ],
   "cell_type": "code",
   "metadata": {},
   "execution_count": 219,
   "outputs": [
    {
     "output_type": "stream",
     "name": "stdout",
     "text": [
      "Requirement already satisfied: selenium in /Users/MAC/opt/anaconda3/lib/python3.8/site-packages (3.141.0)\n",
      "Requirement already satisfied: urllib3 in /Users/MAC/opt/anaconda3/lib/python3.8/site-packages (from selenium) (1.25.11)\n",
      "Note: you may need to restart the kernel to use updated packages.\n"
     ]
    }
   ]
  },
  {
   "cell_type": "code",
   "execution_count": 220,
   "metadata": {},
   "outputs": [],
   "source": [
    "import pandas as pd\n",
    "import requests\n",
    "from bs4 import BeautifulSoup\n",
    "from selenium import webdriver\n",
    "from selenium.webdriver.common.by import By\n",
    "from selenium.webdriver.support.ui import WebDriverWait\n",
    "from selenium.webdriver.support import expected_conditions as EC\n",
    "from selenium.webdriver.chrome.options import Options\n",
    "from selenium.webdriver.common.action_chains import ActionChains\n",
    "import time"
   ]
  },
  {
   "cell_type": "code",
   "execution_count": 221,
   "metadata": {},
   "outputs": [],
   "source": [
    "chrome_driver_path = \"/Users/MAC/opt/anaconda3/bin/chromedriver\"\n",
    "chrome_options = Options()"
   ]
  },
  {
   "cell_type": "code",
   "execution_count": 222,
   "metadata": {},
   "outputs": [],
   "source": [
    "driver = webdriver.Chrome(executable_path=chrome_driver_path, options=chrome_options)"
   ]
  },
  {
   "cell_type": "code",
   "execution_count": 223,
   "metadata": {},
   "outputs": [],
   "source": [
    "urls = klinikUrlList\n",
    "suche_nach_mir= {\n",
    "'title': '//*[@id=\"content\"]/header/h1',\n",
    "'Datum_der_Bewertung_s': '//time',\n",
    "'Fach': '//*[contains(concat( \" \", @class, \" \" ), concat( \" \", \"js-tooltip\", \" \" ))]',\n",
    "\n",
    "'Gesamt_zufriedenheit':'//*[@id=\"content\"]/section[2]/dl/dd[1]/img',\n",
    "\n",
    "'Qualität_der_Beratung':'//*[@id=\"content\"]/section[2]/dl/dd[2]/img[1]',\n",
    "'Mediz':'//*[@id=\"content\"]/section[2]/dl/dd[3]/img',\n",
    "'Verwaltung':'//*[@id=\"content\"]/section[2]/dl/dd[4]/img',\n",
    "'Ausstattung':'//*[@id=\"content\"]/section[2]/dl/dd[5]/img'\n",
    "    }\n",
    "save_in_variable=[]    \n",
    "\n",
    "\n",
    "\n",
    "\n",
    "\n",
    "\n"
   ]
  },
  {
   "cell_type": "code",
   "execution_count": 224,
   "metadata": {},
   "outputs": [
    {
     "output_type": "stream",
     "name": "stdout",
     "text": [
      "<selenium.webdriver.remote.webelement.WebElement (session=\"f6fe8350951027b963e7545edf37fb2a\", element=\"68c8327e-4ef8-4a72-b518-54d71a43b548\")>\nstar-3\n"
     ]
    }
   ],
   "source": [
    " driver.get('https://www.klinikbewertungen.de/klinik-forum/erfahrung-mit-krankenhaus-soltau/bewertungen?allbew#more')\n",
    " gesamt = driver.find_element_by_xpath('//*[@id=\"content\"]/section[2]/dl/dd[1]/img')\n",
    " print(gesamt)\n",
    " print( gesamt.get_attribute(\"class\") )"
   ]
  },
  {
   "cell_type": "code",
   "execution_count": 225,
   "metadata": {},
   "outputs": [],
   "source": [
    "def find_elemet(urls,such):\n",
    "\n",
    "    for url in urls:\n",
    "        i=0\n",
    "        driver.get(url)\n",
    "        for key in such:\n",
    "            temp = driver.find_element_by_xpath(such[key])\n",
    "            if i>2:\n",
    "                save_in_variable.append(temp.get_attribute(\"class\"))\n",
    "                print(temp.get_attribute(\"class\"))\n",
    "            else:\n",
    "                save_in_variable.append(temp.text)    \n",
    "                print(temp.text)\n",
    "            i=i+1\n"
   ]
  },
  {
   "cell_type": "code",
   "execution_count": 226,
   "metadata": {
    "tags": []
   },
   "outputs": [
    {
     "output_type": "stream",
     "name": "stdout",
     "text": [
      "Augenklinik - Dr. Hoffmann\n",
      "16.03.2021\n",
      "Augen\n",
      "star-4\n",
      "star-4\n",
      "star-4\n",
      "star-4\n",
      "star-4\n",
      "Krankenhaus der evangelisch-lutherischen Diakonissenanstalt Marienstift\n",
      "19.09.2020\n",
      "Entbindung\n",
      "star-5\n",
      "star-5\n",
      "star-5\n",
      "star-5\n",
      "star-4\n",
      "HEH Herzogin Elisabeth Hospital\n",
      "17.03.2021\n",
      "Diabetes\n",
      "star-5\n",
      "star-5\n",
      "star-5\n",
      "star-5\n",
      "star-5\n",
      "Asklepios Fachklinikum Göttingen\n",
      "08.03.2021\n",
      "Psychiatrie\n",
      "star-1\n",
      "star-2\n",
      "star-2\n",
      "star-2\n",
      "star-2\n",
      "Asklepios Fachklinikum Tiefenbrunn\n",
      "17.02.2021\n",
      "Psychosomatik\n",
      "star-4\n",
      "star-4\n",
      "star-4\n",
      "star-3\n",
      "star-4\n",
      "DIAKOVERE Friederikenstift\n",
      "27.02.2021\n",
      "Entbindung\n",
      "star-3\n",
      "star-3\n",
      "star-3\n",
      "star-3\n",
      "star-3\n",
      "DIAKOVERE Annastift\n",
      "19.03.2021\n",
      "Orthopädie\n",
      "star-5\n",
      "star-5\n",
      "star-5\n",
      "star-4\n",
      "star-4\n",
      "DRK-Clementinenhaus\n",
      "12.03.2021\n",
      "Chirurgie\n",
      "star-4\n",
      "star-4\n",
      "star-4\n",
      "star-4\n",
      "star-4\n",
      "Sophienklinik GmbH\n",
      "11.10.2020\n",
      "\n",
      "star-4\n",
      "star-4\n",
      "star-5\n",
      "star-4\n",
      "star-4\n",
      "KRH Klinikum Großburgwedel\n",
      "20.02.2021\n",
      "Chirurgie\n",
      "star-4\n",
      "star-4\n",
      "star-4\n",
      "star-3\n",
      "star-3\n",
      "KRH Klinikum Lehrte\n",
      "13.03.2021\n",
      "\n",
      "star-4\n",
      "star-4\n",
      "star-4\n",
      "star-4\n",
      "star-3\n",
      "Krankenhaus Lindenbrunn\n",
      "09.03.2021\n",
      "Chirurgie\n",
      "star-5\n",
      "star-5\n",
      "star-5\n",
      "star-4\n",
      "star-5\n",
      "Sana Klinikum Hameln-Pyrmont\n",
      "10.03.2021\n",
      "Chirurgie\n",
      "star-4\n",
      "star-4\n",
      "star-4\n",
      "star-4\n",
      "star-4\n",
      "Kreis- und Stadtkrankenhaus Alfeld\n",
      "06.06.2019\n",
      "Frauen\n",
      "star-1\n",
      "star-1\n",
      "star-2\n",
      "star-2\n",
      "star-2\n",
      "HELIOS Klinikum Hildesheim GmbH\n",
      "07.02.2021\n",
      "Frauen\n",
      "star-3\n",
      "star-3\n",
      "star-4\n",
      "star-3\n",
      "star-4\n",
      "AGAPLESION EV. KLINIKUM SCHAUMBURG\n",
      "20.03.2021\n",
      "Schmerztherapie\n",
      "star-4\n",
      "star-4\n",
      "star-4\n",
      "star-4\n",
      "star-4\n",
      "HELIOS Klinik Cuxhaven\n",
      "10.01.2021\n",
      "Kardiologie\n",
      "star-3\n",
      "star-4\n",
      "star-4\n",
      "star-3\n",
      "star-3\n",
      "Ostemed Klinik Bremervörde\n",
      "21.03.2021\n",
      "Schmerztherapie\n",
      "star-3\n",
      "star-3\n",
      "star-3\n",
      "star-3\n",
      "star-3\n",
      "Klinik Fallingbostel\n",
      "11.02.2021\n",
      "Kardiologie\n",
      "star-4\n",
      "star-4\n",
      "star-4\n",
      "star-5\n",
      "star-4\n",
      "Klinikum Emden\n",
      "12.10.2020\n",
      "Orthopädie\n",
      "star-3\n",
      "star-3\n",
      "star-3\n",
      "star-3\n",
      "star-3\n",
      "Krankenhaus Ludmillenstift\n",
      "22.03.2021\n",
      "\n",
      "star-3\n",
      "star-3\n",
      "star-4\n",
      "star-3\n",
      "star-3\n",
      "Marien Hospital Papenburg-Aschendorf\n",
      "07.03.2021\n",
      "Kind/Jugend-Psych.\n",
      "star-3\n",
      "star-3\n",
      "star-3\n",
      "star-3\n",
      "star-3\n",
      "Kreiskrankenhaus Osterholz\n",
      "08.11.2020\n",
      "Chirurgie\n",
      "star-5\n",
      "star-5\n",
      "star-5\n",
      "star-5\n",
      "star-4\n",
      "Heidekreis-Klinikum GmbH - Krankenhaus Soltau\n",
      "29.10.2020\n",
      "\n",
      "star-3\n",
      "star-4\n",
      "star-4\n",
      "star-3\n",
      "star-3\n"
     ]
    }
   ],
   "source": [
    "find_elemet(urls,suche_nach_mir)"
   ]
  },
  {
   "cell_type": "code",
   "execution_count": 227,
   "metadata": {},
   "outputs": [
    {
     "output_type": "stream",
     "name": "stdout",
     "text": [
      "['Augenklinik - Dr. Hoffmann', '16.03.2021', 'Augen', 'star-4', 'star-4', 'star-4', 'star-4', 'star-4', 'Krankenhaus der evangelisch-lutherischen Diakonissenanstalt Marienstift', '19.09.2020', 'Entbindung', 'star-5', 'star-5', 'star-5', 'star-5', 'star-4', 'HEH Herzogin Elisabeth Hospital', '17.03.2021', 'Diabetes', 'star-5', 'star-5', 'star-5', 'star-5', 'star-5', 'Asklepios Fachklinikum Göttingen', '08.03.2021', 'Psychiatrie', 'star-1', 'star-2', 'star-2', 'star-2', 'star-2', 'Asklepios Fachklinikum Tiefenbrunn', '17.02.2021', 'Psychosomatik', 'star-4', 'star-4', 'star-4', 'star-3', 'star-4', 'DIAKOVERE Friederikenstift', '27.02.2021', 'Entbindung', 'star-3', 'star-3', 'star-3', 'star-3', 'star-3', 'DIAKOVERE Annastift', '19.03.2021', 'Orthopädie', 'star-5', 'star-5', 'star-5', 'star-4', 'star-4', 'DRK-Clementinenhaus', '12.03.2021', 'Chirurgie', 'star-4', 'star-4', 'star-4', 'star-4', 'star-4', 'Sophienklinik GmbH', '11.10.2020', '', 'star-4', 'star-4', 'star-5', 'star-4', 'star-4', 'KRH Klinikum Großburgwedel', '20.02.2021', 'Chirurgie', 'star-4', 'star-4', 'star-4', 'star-3', 'star-3', 'KRH Klinikum Lehrte', '13.03.2021', '', 'star-4', 'star-4', 'star-4', 'star-4', 'star-3', 'Krankenhaus Lindenbrunn', '09.03.2021', 'Chirurgie', 'star-5', 'star-5', 'star-5', 'star-4', 'star-5', 'Sana Klinikum Hameln-Pyrmont', '10.03.2021', 'Chirurgie', 'star-4', 'star-4', 'star-4', 'star-4', 'star-4', 'Kreis- und Stadtkrankenhaus Alfeld', '06.06.2019', 'Frauen', 'star-1', 'star-1', 'star-2', 'star-2', 'star-2', 'HELIOS Klinikum Hildesheim GmbH', '07.02.2021', 'Frauen', 'star-3', 'star-3', 'star-4', 'star-3', 'star-4', 'AGAPLESION EV. KLINIKUM SCHAUMBURG', '20.03.2021', 'Schmerztherapie', 'star-4', 'star-4', 'star-4', 'star-4', 'star-4', 'HELIOS Klinik Cuxhaven', '10.01.2021', 'Kardiologie', 'star-3', 'star-4', 'star-4', 'star-3', 'star-3', 'Ostemed Klinik Bremervörde', '21.03.2021', 'Schmerztherapie', 'star-3', 'star-3', 'star-3', 'star-3', 'star-3', 'Klinik Fallingbostel', '11.02.2021', 'Kardiologie', 'star-4', 'star-4', 'star-4', 'star-5', 'star-4', 'Klinikum Emden', '12.10.2020', 'Orthopädie', 'star-3', 'star-3', 'star-3', 'star-3', 'star-3', 'Krankenhaus Ludmillenstift', '22.03.2021', '', 'star-3', 'star-3', 'star-4', 'star-3', 'star-3', 'Marien Hospital Papenburg-Aschendorf', '07.03.2021', 'Kind/Jugend-Psych.', 'star-3', 'star-3', 'star-3', 'star-3', 'star-3', 'Kreiskrankenhaus Osterholz', '08.11.2020', 'Chirurgie', 'star-5', 'star-5', 'star-5', 'star-5', 'star-4', 'Heidekreis-Klinikum GmbH - Krankenhaus Soltau', '29.10.2020', '', 'star-3', 'star-4', 'star-4', 'star-3', 'star-3']\n"
     ]
    }
   ],
   "source": [
    "print(save_in_variable)"
   ]
  },
  {
   "cell_type": "code",
   "execution_count": null,
   "metadata": {},
   "outputs": [],
   "source": []
  }
 ],
 "metadata": {
  "kernelspec": {
   "display_name": "Python 3",
   "language": "python",
   "name": "python3"
  },
  "language_info": {
   "codemirror_mode": {
    "name": "ipython",
    "version": 3
   },
   "file_extension": ".py",
   "mimetype": "text/x-python",
   "name": "python",
   "nbconvert_exporter": "python",
   "pygments_lexer": "ipython3",
   "version": "3.8.5"
  }
 },
 "nbformat": 4,
 "nbformat_minor": 4
}